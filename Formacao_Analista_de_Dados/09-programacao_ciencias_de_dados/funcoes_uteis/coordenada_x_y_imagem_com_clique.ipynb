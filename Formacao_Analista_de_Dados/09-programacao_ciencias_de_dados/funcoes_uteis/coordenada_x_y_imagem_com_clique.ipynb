{
 "cells": [
  {
   "cell_type": "code",
   "execution_count": 10,
   "metadata": {},
   "outputs": [],
   "source": [
    "'''\n",
    "Apresenta no terminal coordenadas x e y de uma imagem a partir de clique do cursor: permite vários cliques.\n",
    "Fonte: https://www.geeksforgeeks.org/displaying-the-coordinates-of-the-points-clicked-on-the-image-using-python-opencv/\n",
    "'''\n",
    "\n",
    "import cv2\n",
    "   \n",
    "def click_event(event, x, y, flags, params): \n",
    "  \n",
    "    \n",
    "    if event == cv2.EVENT_LBUTTONDOWN: \n",
    "      print(x, ' ', y) \n",
    "      font = cv2.FONT_HERSHEY_SIMPLEX \n",
    "      cv2.putText(img, str(x) + ',' +\n",
    "                    str(y), (x,y), font, \n",
    "                    1, (255, 0, 0), 2) \n",
    "      cv2.imshow('image', img) \n",
    "  \n",
    "    \n",
    "    if event==cv2.EVENT_RBUTTONDOWN: \n",
    "      print(x, ' ', y) \n",
    "      font = cv2.FONT_HERSHEY_SIMPLEX \n",
    "      b = img[y, x, 0] \n",
    "      g = img[y, x, 1] \n",
    "      r = img[y, x, 2] \n",
    "      cv2.putText(img, str(b) + ',' +\n",
    "                  str(g) + ',' + str(r), \n",
    "                  (x,y), font, 1, \n",
    "                  (255, 255, 0), 2) \n",
    "      cv2.imshow('image', img) \n",
    "      \n",
    "if __name__==\"__main__\": \n",
    "  \n",
    "    #alterar conforme imagem desejada\n",
    "    img = cv2.imread('Coloque PATH da imagem', 1) \n",
    "  \n",
    "    \n",
    "    cv2.imshow('image', img) \n",
    "  \n",
    "    \n",
    "    \n",
    "    cv2.setMouseCallback('image', click_event) \n",
    "  \n",
    "    \n",
    "    cv2.waitKey(0) \n",
    "  \n",
    "    \n",
    "    cv2.destroyAllWindows() "
   ]
  }
 ],
 "metadata": {
  "kernelspec": {
   "display_name": "Python 3",
   "language": "python",
   "name": "python3"
  },
  "language_info": {
   "codemirror_mode": {
    "name": "ipython",
    "version": 3
   },
   "file_extension": ".py",
   "mimetype": "text/x-python",
   "name": "python",
   "nbconvert_exporter": "python",
   "pygments_lexer": "ipython3",
   "version": "3.11.2"
  },
  "orig_nbformat": 4
 },
 "nbformat": 4,
 "nbformat_minor": 2
}
