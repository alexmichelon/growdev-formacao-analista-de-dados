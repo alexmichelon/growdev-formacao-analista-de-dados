{
 "cells": [
  {
   "cell_type": "code",
   "execution_count": 1,
   "metadata": {},
   "outputs": [],
   "source": [
    "# Importando Numpy\n",
    "import numpy as np"
   ]
  },
  {
   "cell_type": "code",
   "execution_count": 2,
   "metadata": {},
   "outputs": [
    {
     "name": "stdout",
     "output_type": "stream",
     "text": [
      "Valores originais do array: [0 1 2 3 4 5 6 7 8 9]\n",
      "Acessando diretamente posicao 4 do array: 4\n",
      "Acessando posições por slice: [0 1 2], [0 1 2 3 4 5 6 7 8 9], [4 5 6 7]\n",
      "Novos valores do array: [0 0 2 2 4 4 6 6 8 8]\n",
      "Tipo original do array: int32\n",
      "Tipo do array alterado para int64: int64\n",
      "Tipo do array alterado para float64: float64\n"
     ]
    }
   ],
   "source": [
    "#1) Como acessar e alterar os valores do array?\n",
    "arr = np.array([0, 1, 2, 3, 4, 5, 6, 7, 8, 9])\n",
    "print(f'Valores originais do array: {arr}')   \n",
    "\n",
    "#Acessando por índice\n",
    "n = 4\n",
    "o = 8\n",
    "p = 0\n",
    "print(f'Acessando diretamente posicao {n} do array: {arr[n]}')\n",
    "#Acessando slice\n",
    "print(f'Acessando posições por slice: {arr[p:n-1]}, {arr[:]}, {arr[n:o]}')\n",
    "\n",
    "#Alterando valores do array com ufunc\n",
    "def altera_impares(arr):\n",
    "    if (arr % 2 != 0):\n",
    "        arr = arr -1 \n",
    "    return arr\n",
    "\n",
    "altera_impares = np.frompyfunc(altera_impares, 1, 1)\n",
    "    \n",
    "print(f'Novos valores do array: {altera_impares(arr)}')    \n",
    "\n",
    "#Alterando o tipo de dado do array\n",
    "print(f'Tipo original do array: {arr.dtype}')\n",
    "arr = arr.astype('int64')\n",
    "print(f'Tipo do array alterado para int64: {arr.dtype}')\n",
    "arr = arr.astype('float64')\n",
    "print(f'Tipo do array alterado para float64: {arr.dtype}')"
   ]
  },
  {
   "cell_type": "code",
   "execution_count": 3,
   "metadata": {},
   "outputs": [
    {
     "name": "stdout",
     "output_type": "stream",
     "text": [
      "Array A: \n",
      " [[0 1 2 3 4]\n",
      " [5 6 7 8 9]]\n",
      "\n",
      "Array B: \n",
      " [[1 1 1 1 1]\n",
      " [1 1 1 1 1]]\n",
      "\n",
      "Array A empilhado em B:\n"
     ]
    },
    {
     "data": {
      "text/plain": [
       "array([[0, 1, 2, 3, 4],\n",
       "       [5, 6, 7, 8, 9],\n",
       "       [1, 1, 1, 1, 1],\n",
       "       [1, 1, 1, 1, 1]])"
      ]
     },
     "execution_count": 3,
     "metadata": {},
     "output_type": "execute_result"
    }
   ],
   "source": [
    "#2) Como empilhar dois arrays verticalmente?\n",
    "a = np.arange(10).reshape(2,-1)\n",
    "b = np.repeat(1, 10).reshape(2,-1)\n",
    "\n",
    "'''Saída desejada:\n",
    "array([[0, 1, 2, 3, 4],\n",
    "       [5, 6, 7, 8, 9],\n",
    "       [1, 1, 1, 1, 1],\n",
    "       [1, 1, 1, 1, 1]])\n",
    "'''\n",
    "\n",
    "print(f'Array A: \\n {a}\\n')\n",
    "print(f'Array B: \\n {b}\\n')\n",
    "print(f'Array A empilhado em B:')\n",
    "np.concatenate((a, b))"
   ]
  },
  {
   "cell_type": "code",
   "execution_count": 4,
   "metadata": {},
   "outputs": [
    {
     "name": "stdout",
     "output_type": "stream",
     "text": [
      "Array A: \n",
      " [[0 1 2 3 4]\n",
      " [5 6 7 8 9]]\n",
      "\n",
      "Array B: \n",
      " [[1 1 1 1 1]\n",
      " [1 1 1 1 1]]\n",
      "\n",
      "Array A empilhado em B horizontalmente:\n"
     ]
    },
    {
     "data": {
      "text/plain": [
       "array([[0, 1, 2, 3, 4, 1, 1, 1, 1, 1],\n",
       "       [5, 6, 7, 8, 9, 1, 1, 1, 1, 1]])"
      ]
     },
     "execution_count": 4,
     "metadata": {},
     "output_type": "execute_result"
    }
   ],
   "source": [
    "#3) Como empilhar dois arrays horizontalmente?\n",
    "a = np.arange(10).reshape(2,-1)\n",
    "b = np.repeat(1, 10).reshape(2,-1)\n",
    "\n",
    "'''Saída desejada:\n",
    "array([[0, 1, 2, 3, 4, 1, 1, 1, 1, 1],\n",
    "       [5, 6, 7, 8, 9, 1, 1, 1, 1, 1]])'''\n",
    "\n",
    "print(f'Array A: \\n {a}\\n')\n",
    "print(f'Array B: \\n {b}\\n')\n",
    "print(f'Array A empilhado em B horizontalmente:')\n",
    "np.concatenate((a, b), axis=1)"
   ]
  },
  {
   "cell_type": "code",
   "execution_count": 5,
   "metadata": {},
   "outputs": [
    {
     "data": {
      "text/plain": [
       "array([1, 1, 1, 2, 2, 2, 3, 3, 3, 1, 2, 3, 1, 2, 3, 1, 2, 3])"
      ]
     },
     "execution_count": 5,
     "metadata": {},
     "output_type": "execute_result"
    }
   ],
   "source": [
    "#4) Como criar a seguinte sequência com numpy.\n",
    "a = np.array([1,2,3])\n",
    "\n",
    "#Saída desejada:\n",
    "# array([1, 1, 1, 2, 2, 2, 3, 3, 3, 1, 2, 3, 1, 2, 3, 1, 2, 3])\n",
    "a1 = np.repeat(a = a, repeats = 3, axis = 0)\n",
    "a2 = np.tile(A = a, reps = 3)\n",
    "np.concatenate((a1, a2))"
   ]
  },
  {
   "cell_type": "code",
   "execution_count": 6,
   "metadata": {},
   "outputs": [
    {
     "data": {
      "text/plain": [
       "array([2, 4])"
      ]
     },
     "execution_count": 6,
     "metadata": {},
     "output_type": "execute_result"
    }
   ],
   "source": [
    "# 5) Como pegar os elementos em comum entre dois arrays?\n",
    "#Entrada:\n",
    "a = np.array([1,2,3,2,3,4,3,4,5,6])\n",
    "b = np.array([7,2,10,2,7,4,9,4,9,8])\n",
    "#Saída desejada:\n",
    "#array([2, 4])\n",
    "\n",
    "'''#intersectar mais de 2 arrays\n",
    "from functools import reduce\n",
    "ab = reduce(np.intersect1d, (a, b))'''\n",
    "\n",
    "ab = np.intersect1d(a, b)\n",
    "ab"
   ]
  },
  {
   "cell_type": "code",
   "execution_count": 8,
   "metadata": {},
   "outputs": [
    {
     "data": {
      "text/plain": [
       "(array([1, 3, 5, 7], dtype=int64),)"
      ]
     },
     "execution_count": 8,
     "metadata": {},
     "output_type": "execute_result"
    }
   ],
   "source": [
    "# 6) Como pegar as posições de elementos iguais entre dois arrays?\n",
    "# Entrada:\n",
    "a = np.array([1,2,3,2,3,4,3,4,5,6])\n",
    "b = np.array([7,2,10,2,7,4,9,4,9,8])\n",
    "# Saída desejada:\n",
    "# (array([1, 3, 5, 7]),)\n",
    "\n",
    "idx = np.where(np.in1d(a,b))\n",
    "idx"
   ]
  },
  {
   "cell_type": "code",
   "execution_count": 10,
   "metadata": {},
   "outputs": [
    {
     "data": {
      "text/plain": [
       "array([ 6,  9, 10])"
      ]
     },
     "execution_count": 10,
     "metadata": {},
     "output_type": "execute_result"
    }
   ],
   "source": [
    "# 7) Como extrair todos os números em um intervalo desejado?\n",
    "# Entrada:\n",
    "a = np.array([2, 6, 1, 9, 10, 3, 27])\n",
    "# Saída desejada:\n",
    "# (array([6, 9, 10]),)\n",
    "b = a[1:5]\n",
    "result = b[b > 1]\n",
    "result"
   ]
  },
  {
   "cell_type": "code",
   "execution_count": 12,
   "metadata": {},
   "outputs": [
    {
     "name": "stdout",
     "output_type": "stream",
     "text": [
      "Array 2 dimensões:\n",
      "[[3 9 0]\n",
      " [8 4 1]\n",
      " [3 3 4]\n",
      " [0 2 0]\n",
      " [0 9 8]]\n",
      "\n",
      "Array 1 dimensão com a função flatten():\n",
      "[3 9 0 8 4 1 3 3 4 0 2 0 0 9 8]\n",
      "\n",
      "Array 1 dimensão com a função ravel():\n",
      "[3 9 0 8 4 1 3 3 4 0 2 0 0 9 8]\n",
      "\n",
      "Array 1 dimensão com a função reshape():\n",
      "[[3 9 0 8 4 1 3 3 4 0 2 0 0 9 8]]\n",
      "\n"
     ]
    }
   ],
   "source": [
    "''' 8) Como transformar um array 2D em um array 1D, crie um array 2D\n",
    "com uma quantidade arbitrária de linhas e colunas e transforme em um array 1D. '''\n",
    "import random as rand\n",
    "linha = rand.randint(2,5)\n",
    "coluna = rand.randint(1,5)\n",
    "shape = (linha, coluna)\n",
    "array_2d = np.random.randint(0, 10, shape)\n",
    "print(f'Array 2 dimensões:\\n{array_2d}\\n')\n",
    "\n",
    "array_1d = array_2d.flatten()\n",
    "print(f'Array 1 dimensão com a função flatten():\\n{array_1d}\\n')\n",
    "array_1d = array_2d.ravel()\n",
    "print(f'Array 1 dimensão com a função ravel():\\n{array_1d}\\n')\n",
    "array_1d = array_2d.reshape([1, linha * coluna])\n",
    "print(f'Array 1 dimensão com a função reshape():\\n{array_1d}\\n')"
   ]
  },
  {
   "cell_type": "code",
   "execution_count": 13,
   "metadata": {},
   "outputs": [],
   "source": [
    "# 9) Crie uma ufunc para transformar uma imagem colorida em uma imagem em escala de cinza e aplique em um programa.\n",
    "import cv2\n",
    "\n",
    "arquivo = 'arquivo/imagem.jpg'\n",
    "'''# carregando a imagem no OpenCV colorida\n",
    "escala = 3 # escala colorida\n",
    "imagem = cv2.imread(arquivo, escala)\n",
    "cv2.imshow('', imagem)\n",
    "cv2.waitKey(0)\n",
    "cv2.destroyAllWindows()'''\n",
    "\n",
    "# função transforma imagem em cinza\n",
    "def imagem_cinza(arquivo):\n",
    "    escala = 0 # escala de cinza\n",
    "    imagem = cv2.imread(arquivo, escala)      \n",
    "    return imagem\n",
    "\n",
    "imagem_cinza = np.frompyfunc(imagem_cinza, 1, 1)\n",
    "imagem = imagem_cinza(arquivo)\n",
    "\n",
    "#carrega imagem em tela\n",
    "cv2.imshow('', imagem) \n",
    "cv2.waitKey(0)\n",
    "cv2.destroyAllWindows()"
   ]
  },
  {
   "cell_type": "code",
   "execution_count": 14,
   "metadata": {},
   "outputs": [],
   "source": [
    "'''10)O seguinte link contém imagens comparativas dos registros dos telescópios Hubble e James Webb de diferentes partes do cosmos.\n",
    "Faça o download das imagens de um dos registros escolhidos, carregue a imagem com o opencv, e realize os seguintes\n",
    "processamentos.\n",
    "a) Crie e aplique filtros para exibir as imagens em cores vermelho, verde e azul separadamente, \n",
    "para que possamos observar esses espectros da luz visível separadamente.'''\n",
    "import cv2\n",
    "import numpy as np\n",
    "\n",
    "arquivo = 'arquivo/imagem.png'\n",
    "\n",
    "# função transforma imagem em cinza\n",
    "def carregar_imagem(arquivo):\n",
    "    escala = 3 # escala colorida\n",
    "    imagem = cv2.imread(arquivo, escala)      \n",
    "    return imagem\n",
    "\n",
    "carregar_imagem = np.frompyfunc(carregar_imagem, 1, 1)\n",
    "imagem = carregar_imagem(arquivo)\n",
    "\n",
    "#verde\n",
    "imagem[:,:,0] = 0\n",
    "imagem[:,:,2] = 0\n",
    "#carrega imagem em tela\n",
    "cv2.imshow('', imagem) \n",
    "cv2.waitKey(0)\n",
    "cv2.destroyAllWindows()"
   ]
  },
  {
   "cell_type": "code",
   "execution_count": 15,
   "metadata": {},
   "outputs": [
    {
     "data": {
      "text/plain": [
       "-1"
      ]
     },
     "execution_count": 15,
     "metadata": {},
     "output_type": "execute_result"
    }
   ],
   "source": [
    "'''10)O seguinte link contém imagens comparativas dos registros dos telescópios Hubble e James Webb de diferentes partes do cosmos.\n",
    "Faça o download das imagens de um dos registros escolhidos, carregue a imagem com o opencv, e realize os seguintes\n",
    "processamentos.\n",
    "a) Crie e aplique filtros para exibir as imagens em cores vermelho, verde e azul separadamente, \n",
    "para que possamos observar esses espectros da luz visível separadamente.'''\n",
    "import cv2\n",
    "import numpy as np\n",
    "\n",
    "arquivo = 'arquivo/imagem.png'\n",
    "\n",
    "# função transforma imagem em cinza\n",
    "def carregar_imagem(arquivo):\n",
    "    escala = 3 # escala colorida\n",
    "    imagem = cv2.imread(arquivo, escala)      \n",
    "    return imagem\n",
    "\n",
    "carregar_imagem = np.frompyfunc(carregar_imagem, 1, 1)\n",
    "imagem = carregar_imagem(arquivo)\n",
    "\n",
    "#vermelho\n",
    "imagem[:,:,0] = 0\n",
    "imagem[:,:,1] = 0\n",
    "#carrega imagem em tela\n",
    "cv2.imshow('', imagem) \n",
    "cv2.waitKey(0)"
   ]
  },
  {
   "cell_type": "code",
   "execution_count": 16,
   "metadata": {},
   "outputs": [
    {
     "data": {
      "text/plain": [
       "-1"
      ]
     },
     "execution_count": 16,
     "metadata": {},
     "output_type": "execute_result"
    }
   ],
   "source": [
    "'''10)O seguinte link contém imagens comparativas dos registros dos telescópios Hubble e James Webb de diferentes partes do cosmos.\n",
    "Faça o download das imagens de um dos registros escolhidos, carregue a imagem com o opencv, e realize os seguintes\n",
    "processamentos.\n",
    "a) Crie e aplique filtros para exibir as imagens em cores vermelho, verde e azul separadamente, \n",
    "para que possamos observar esses espectros da luz visível separadamente.'''\n",
    "import cv2\n",
    "import numpy as np\n",
    "\n",
    "arquivo = 'arquivo/imagem.png'\n",
    "\n",
    "# função transforma imagem em cinza\n",
    "def carregar_imagem(arquivo):\n",
    "    escala = 3 # escala colorida\n",
    "    imagem = cv2.imread(arquivo, escala)      \n",
    "    return imagem\n",
    "\n",
    "carregar_imagem = np.frompyfunc(carregar_imagem, 1, 1)\n",
    "imagem = carregar_imagem(arquivo)\n",
    "\n",
    "#azul\n",
    "imagem[:,:,1] = 0\n",
    "imagem[:,:,2] = 0\n",
    "#carrega imagem em tela\n",
    "cv2.imshow('', imagem) \n",
    "cv2.waitKey(0)"
   ]
  },
  {
   "cell_type": "code",
   "execution_count": 17,
   "metadata": {},
   "outputs": [],
   "source": [
    "'''b) Crie e aplique um filtro que procure exibir somente (ou quase isso) os pontos mais brilhantes da imagem \n",
    "(normalmente estrelas ou galáxias)'''\n",
    "\n",
    "'''\n",
    "Para obter valores máximos e mínimos em HSV da cor a ser segmentada, executar o seguinte comando no terminal:\n",
    "python get_color.py -i '<endereço da imagem>'\n",
    "-> fazer um retângulo na imagem no local da cor a ser segmentada e apertar a letra 'r' do teclado \n",
    "no terminal irão aparecer as medidas em HSV. Alterar as variáveis 'lower' e 'upper'\n",
    "'''\n",
    "\n",
    "import cv2\n",
    "import numpy as np\n",
    "\n",
    "arquivo = cv2.imread('arquivo/imagem.png')\n",
    "arquivo = cv2.resize(arquivo, (700,500))\n",
    "hsv = cv2.cvtColor(arquivo, cv2.COLOR_BGR2HSV)\n",
    "blur = cv2.medianBlur(hsv ,11)\n",
    "\n",
    "lower = np.array([0,1,99])\n",
    "upper = np.array([179,105,255])\n",
    "\n",
    "mask = cv2.inRange(blur, lower, upper)\n",
    "res = cv2.bitwise_and(arquivo, arquivo, mask=mask)            \n",
    "\n",
    "#cv2.imshow(\"Arquivo\",arquivo)\n",
    "#cv2.imshow(\"mask \",mask)\n",
    "cv2.imshow('stack', np.hstack([arquivo, res])) #abre a imagem ao lado da mascara\n",
    "cv2.waitKey(0)\n",
    "cv2.destroyAllWindows()"
   ]
  }
 ],
 "metadata": {
  "kernelspec": {
   "display_name": "Python 3",
   "language": "python",
   "name": "python3"
  },
  "language_info": {
   "codemirror_mode": {
    "name": "ipython",
    "version": 3
   },
   "file_extension": ".py",
   "mimetype": "text/x-python",
   "name": "python",
   "nbconvert_exporter": "python",
   "pygments_lexer": "ipython3",
   "version": "3.11.2"
  },
  "orig_nbformat": 4
 },
 "nbformat": 4,
 "nbformat_minor": 2
}
