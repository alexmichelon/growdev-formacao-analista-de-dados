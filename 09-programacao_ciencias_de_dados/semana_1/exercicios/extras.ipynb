{
 "cells": [
  {
   "cell_type": "code",
   "execution_count": null,
   "metadata": {},
   "outputs": [],
   "source": [
    "'''1) Crie um programa para gerar a seguinte imagem em um array\n",
    "numpy e exibir com opencv, a grossura dos círculos em preto são de\n",
    "livre escolha, bem como as cores de fundo e do círculo.'''\n",
    "import cv2\n",
    "import numpy as np   \n",
    "\n",
    "#cria a imagem de fundo na cor branca    \n",
    "imagem = np.ones((300, 400, 3)) * 255 \n",
    "\n",
    "#desenha os círculos    \n",
    "preto = (0, 0, 0)\n",
    "cv2.circle(imagem, (200, 150), 100, preto, 2)\n",
    "cv2.circle(imagem, (200, 150), 80, preto, 2)\n",
    "cv2.circle(imagem, (200, 150), 60, preto, 2)\n",
    "cv2.circle(imagem, (200, 150), 40, preto, 2)\n",
    "cv2.circle(imagem, (200, 150), 20, preto, 2)\n",
    "\n",
    "cv2.imshow('Circulos', imagem)\n",
    "cv2.waitKey(0)\n",
    "cv2.destroyAllWindows()"
   ]
  },
  {
   "cell_type": "code",
   "execution_count": null,
   "metadata": {},
   "outputs": [],
   "source": [
    "#2) Crie um programa para gerar a seguinte imagem em um array numpy e exibir com opencv.\n",
    "\n",
    "#cria a imagem de fundo na cor branca\n",
    "imagem = np.ones((400, 400, 3)) * 255 \n",
    "\n",
    "#desenha o círculo    \n",
    "preto = (0, 0, 0)\n",
    "cv2.circle(imagem, (200, 100), 20, preto)\n",
    "cv2.circle(imagem, (250, 115), 20, preto)\n",
    "cv2.circle(imagem, (285, 150), 20, preto)\n",
    "cv2.circle(imagem, (300, 200), 20, preto)\n",
    "cv2.circle(imagem, (285, 250), 20, preto)\n",
    "cv2.circle(imagem, (250, 285), 20, preto)\n",
    "cv2.circle(imagem, (200, 300), 20, preto)\n",
    "cv2.circle(imagem, (115, 250), 20, preto)\n",
    "cv2.circle(imagem, (150, 285), 20, preto)\n",
    "cv2.circle(imagem, (100, 200), 20, preto)\n",
    "cv2.circle(imagem, (115, 150), 20, preto)\n",
    "cv2.circle(imagem, (150, 115), 20, preto)\n",
    "\n",
    "#abre a jenal de imagem e fecha após algum tecla ser apertada\n",
    "cv2.imshow('Circulos', imagem)\n",
    "cv2.waitKey(0)\n",
    "cv2.destroyAllWindows()"
   ]
  },
  {
   "cell_type": "code",
   "execution_count": 6,
   "metadata": {},
   "outputs": [],
   "source": [
    "'''3) Crie uma imagem de chuva com numpy onde cada pingo é\n",
    "representado por arrays (N, 1), onde N é o comprimento do pingo e o\n",
    "fundo é sempre uma imagem (500, 500). Cores e demais\n",
    "parâmetros podem ser definidos à vontade'''\n",
    "import cv2\n",
    "import numpy as np\n",
    "\n",
    "#cria a imagem de fundo na cor branca\n",
    "matriz_chuva = np.ones((500, 500, 1)) \n",
    "\n",
    "shape = (500, 500)\n",
    "comprimento_pingo = np.random.randint(0, 255, shape)\n",
    "matriz_chuva[:,:,0] = comprimento_pingo\n",
    "\n",
    "# carregando a imagem no OpenCV\n",
    "cv2.imshow('Chuva', matriz_chuva)\n",
    "cv2.waitKey(0)\n",
    "cv2.destroyAllWindows()"
   ]
  }
 ],
 "metadata": {
  "kernelspec": {
   "display_name": "Python 3",
   "language": "python",
   "name": "python3"
  },
  "language_info": {
   "codemirror_mode": {
    "name": "ipython",
    "version": 3
   },
   "file_extension": ".py",
   "mimetype": "text/x-python",
   "name": "python",
   "nbconvert_exporter": "python",
   "pygments_lexer": "ipython3",
   "version": "3.11.2"
  },
  "orig_nbformat": 4
 },
 "nbformat": 4,
 "nbformat_minor": 2
}
