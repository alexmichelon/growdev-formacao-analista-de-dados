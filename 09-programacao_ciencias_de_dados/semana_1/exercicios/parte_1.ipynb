{
 "cells": [
  {
   "cell_type": "code",
   "execution_count": 1,
   "metadata": {},
   "outputs": [
    {
     "name": "stdout",
     "output_type": "stream",
     "text": [
      "Versão do Numpy instalada: 1.24.2\n"
     ]
    }
   ],
   "source": [
    "# 1) Importe o numpy como “np” e imprima o número da versão.\n",
    "import numpy as np\n",
    "print(f'Versão do Numpy instalada: {np.__version__}')"
   ]
  },
  {
   "cell_type": "code",
   "execution_count": 3,
   "metadata": {},
   "outputs": [
    {
     "name": "stdout",
     "output_type": "stream",
     "text": [
      "Vetor Numpy com posições de 0 a 9: \n",
      "[0 1 2 3 4 5 6 7 8 9].\n"
     ]
    }
   ],
   "source": [
    "# 2) Crie um array 1D com números de 0 a 9.\n",
    "vetor_ex_2 = np.arange(0, 10, 1)\n",
    "print(f'Vetor Numpy com posições de 0 a 9: \\n{vetor_ex_2}.')"
   ]
  },
  {
   "cell_type": "code",
   "execution_count": 4,
   "metadata": {},
   "outputs": [
    {
     "name": "stdout",
     "output_type": "stream",
     "text": [
      "[[ True  True  True]\n",
      " [ True  True  True]\n",
      " [ True  True  True]]\n"
     ]
    }
   ],
   "source": [
    "# 3) Crie uma matriz booleana numpy 3×3 com ‘True’\n",
    "shape = (3, 3)\n",
    "matriz_booleana = np.full(shape, True)\n",
    "print(matriz_booleana)"
   ]
  },
  {
   "cell_type": "code",
   "execution_count": 5,
   "metadata": {},
   "outputs": [
    {
     "name": "stdout",
     "output_type": "stream",
     "text": [
      "[0 1 2 3 4 5 6 7 8 9]\n",
      "[ 0 -1  2 -1  4 -1  6 -1  8 -1]\n"
     ]
    }
   ],
   "source": [
    "# 4) Exiba o array da questão 2 com todos os números ímpares substituídos por -1 sem alterar o array\n",
    "import numpy.ma as ma\n",
    "print(vetor_ex_2)\n",
    "vetor_ex_2_sem_impares = ma.masked_where(vetor_ex_2 % 2 != 0, vetor_ex_2)\n",
    "vetor_ex_2_sem_impares = vetor_ex_2_sem_impares.filled(-1)\n",
    "print(vetor_ex_2_sem_impares)"
   ]
  },
  {
   "cell_type": "code",
   "execution_count": 7,
   "metadata": {},
   "outputs": [
    {
     "name": "stdout",
     "output_type": "stream",
     "text": [
      "(200, 200, 3)\n"
     ]
    }
   ],
   "source": [
    "# 5) Crie 3 matrizes 200 x 200, cada uma com valores aleatórios entre 0 e \n",
    "# 255. Junte as 3 matrizes de modo que uma matriz resultante (200 x 200 x 3) seja criada, \n",
    "# então exiba como uma imagem utilizando o opencv\n",
    "import cv2 \n",
    "\n",
    "shape = (200, 200)\n",
    "matriz_aleatoria_1 = np.random.randint(0, 255, shape)\n",
    "matriz_aleatoria_2 = np.random.randint(0, 255, shape)\n",
    "matriz_aleatoria_3 = np.random.randint(0, 255, shape)\n",
    "matriz_resultante = np.zeros((200,200,3))\n",
    "matriz_resultante[:,:,0] = matriz_aleatoria_1\n",
    "matriz_resultante[:,:,1] = matriz_aleatoria_2\n",
    "matriz_resultante[:,:,2] = matriz_aleatoria_3\n",
    "print(matriz_resultante.shape)\n",
    "\n",
    "# carregando a imagem no OpenCV\n",
    "cv2.imshow('Matriz Resultante', matriz_resultante)\n",
    "cv2.waitKey(0)\n",
    "cv2.destroyAllWindows()"
   ]
  },
  {
   "cell_type": "code",
   "execution_count": 105,
   "metadata": {},
   "outputs": [
    {
     "name": "stdout",
     "output_type": "stream",
     "text": [
      "Há uma linha no primeiro array correspondente ao array dois?\n",
      "True\n",
      "\n",
      "Há uma linha no primeiro array correspondente ao array dois?\n",
      "True\n"
     ]
    }
   ],
   "source": [
    "# 6) Crie um array bidimensional com numpy (com valores pré-definidos) com M linhas e N colunas e em seguida crie um array\n",
    "#com N elementos e verifique se existe uma linha do primeiro array que corresponde ao segundo array criado\n",
    "matriz_6_1 = np.array([[1,2,3,6], [3,2,5,7], [1,1,0,2]])\n",
    "matriz_6_2 = np.array([[1,2,3,6]])\n",
    "result = False\n",
    "\n",
    "#com (a==b).all()\n",
    "for i in range (len(matriz_6_1)):\n",
    "    if((matriz_6_1[i] == matriz_6_2).all()):\n",
    "        result = True\n",
    "        break\n",
    "print(f'Há uma linha no primeiro array correspondente ao array dois?\\n{result}\\n')\n",
    "    \n",
    "#com np.array_equal()\n",
    "for i in range (len(matriz_6_1)):\n",
    "    if(np.array_equal(matriz_6_1[i], matriz_6_2)):\n",
    "        result = True\n",
    "        break\n",
    "print(f'Há uma linha no primeiro array correspondente ao array dois?\\n{result}')"
   ]
  },
  {
   "cell_type": "code",
   "execution_count": 11,
   "metadata": {},
   "outputs": [
    {
     "name": "stdout",
     "output_type": "stream",
     "text": [
      "Matriz original:\n",
      " [[ 80  45  46 214 245]\n",
      " [230 121 160 207  93]\n",
      " [243  35 105 131 145]\n",
      " [  0 124 191 239 243]]\n",
      "Matriz mascarada:\n",
      " [[ 45  45  45  45 245]\n",
      " [ 45 121  45 207  93]\n",
      " [243  35 105 131 145]\n",
      " [ 45  45 191 239 243]]\n"
     ]
    }
   ],
   "source": [
    "# 7) Crie um array de qualquer dimensão com valores de 1 até 10 e após, altere todos os valores pares para o valor 45.\n",
    "import random as rand\n",
    "linha = rand.randint(1,5)\n",
    "coluna = rand.randint(1,5)\n",
    "shape = (linha, coluna)\n",
    "matriz_7_original = np.random.randint(0, 255, shape)\n",
    "matriz_7_mascarada = ma.masked_where(matriz_7_original % 2 == 0, matriz_7_original)\n",
    "matriz_7_mascarada = matriz_7_mascarada.filled(45)\n",
    "print(f'Matriz original:\\n {matriz_7_original}')\n",
    "print(f'Matriz mascarada:\\n {matriz_7_mascarada}')"
   ]
  },
  {
   "cell_type": "code",
   "execution_count": 13,
   "metadata": {},
   "outputs": [
    {
     "name": "stdout",
     "output_type": "stream",
     "text": [
      "Média: [628.1]\n",
      "Desvio Padrao: [238.66760009]\n"
     ]
    }
   ],
   "source": [
    "# 8) Crie um array randômico de tamanho 30 e encontre a média e o desvio padrão.\n",
    "shape = (1, 30)\n",
    "matriz_8 = np.random.randint(0, 1000, shape)\n",
    "media = np.mean(matriz_8, axis=1)\n",
    "desvio_padrao = np.std(matriz_8, axis=1)\n",
    "print(f'Média: {media}')\n",
    "print(f'Desvio Padrao: {desvio_padrao}')"
   ]
  },
  {
   "cell_type": "code",
   "execution_count": 9,
   "metadata": {},
   "outputs": [
    {
     "name": "stdout",
     "output_type": "stream",
     "text": [
      "Matriz gerada:\n",
      " [[1 6 4]]\n",
      "Matriz ordenada:\n",
      " [[1 4 6]]\n"
     ]
    }
   ],
   "source": [
    "# 9) Crie um array randômico de valores inteiros e faça a ordenação desse array\n",
    "tamanho = rand.randint(1, 10)\n",
    "shape = (1, tamanho)\n",
    "matriz_9 = np.random.randint(0, 10, shape)\n",
    "print(f'Matriz gerada:\\n {matriz_9}')\n",
    "print(f'Matriz ordenada:\\n {np.sort(matriz_9)}')"
   ]
  },
  {
   "cell_type": "code",
   "execution_count": 28,
   "metadata": {},
   "outputs": [
    {
     "name": "stdout",
     "output_type": "stream",
     "text": [
      "Matriz Gerada:\n",
      " [[4 1 3 4 3 2 3 4 1 3]]\n",
      "Moda:\n",
      " [[2]]\n"
     ]
    }
   ],
   "source": [
    "#10)Crie um array randômico de valores inteiros, em seguida encontre a moda.\n",
    "shape = (1, 10)\n",
    "matriz_10 = np.random.randint(0, 5, shape)\n",
    "valores, quantidades = np.unique(matriz_10, return_counts=True)\n",
    "moda = np.argwhere(quantidades == np.max(quantidades))\n",
    "print(f'Matriz Gerada:\\n {matriz_10}')\n",
    "print(f'Moda:\\n {moda}')"
   ]
  }
 ],
 "metadata": {
  "kernelspec": {
   "display_name": "Python 3",
   "language": "python",
   "name": "python3"
  },
  "language_info": {
   "codemirror_mode": {
    "name": "ipython",
    "version": 3
   },
   "file_extension": ".py",
   "mimetype": "text/x-python",
   "name": "python",
   "nbconvert_exporter": "python",
   "pygments_lexer": "ipython3",
   "version": "3.11.2"
  },
  "orig_nbformat": 4
 },
 "nbformat": 4,
 "nbformat_minor": 2
}
