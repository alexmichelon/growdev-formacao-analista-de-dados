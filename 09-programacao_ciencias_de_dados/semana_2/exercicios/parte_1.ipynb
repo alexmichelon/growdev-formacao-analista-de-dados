{
 "cells": [
  {
   "cell_type": "markdown",
   "metadata": {},
   "source": [
    "Parte 1\n",
    "\n",
    "As questões a seguir utilizam como base o dataset de venda de jogos eletrônicos disponível no seguinte '<a href=\"https://www.kaggle.com/code/rafa84miranda/vendas-de-jogos-de-videogames/data?select=vgsales.csv\" > link </a>.\n",
    "\n",
    "Os campos são:\n",
    "* **Rank**: posição no ranking de vendas\n",
    "* **Name**: nome do jogo\n",
    "* **Platform**: plataforma/console\n",
    "* **Year**: ano de lançamento\n",
    "* **Genre**: gênero\n",
    "* **Publisher**: empresa que publicou o jogo\n",
    "* **NA_Sales**: vendas na américa do norte (em milhões de dólares)\n",
    "* **EU_Sales**: vendas na europa (em milhões de dólares)\n",
    "* **JP_Sales**: vendas no japão (em milhões de dólares)\n",
    "* **Other_Sales**: outras vendas (em milhões de dólares)\n",
    "* **Global_Sales**: vendas globais (em milhões de dólares)"
   ]
  },
  {
   "cell_type": "code",
   "execution_count": null,
   "metadata": {},
   "outputs": [],
   "source": [
    "import pandas as pd\n",
    "import matplotlib.pyplot as plt\n",
    "import seaborn as sns\n",
    "\n",
    "dados_jogos = pd.read_csv('arquivo/vgsales.csv')\n",
    "dados_jogos.shape #retorna número linhas e colunas do DataFrame\n",
    "dados_jogos.head(4) #retorna linhas e colunas com dados do DataFrame"
   ]
  },
  {
   "cell_type": "code",
   "execution_count": null,
   "metadata": {},
   "outputs": [],
   "source": [
    "#retorna quantidade de registros nulos existentes no DataFrame\n",
    "nulo = dados_jogos.isnull().sum()\n",
    "nulo"
   ]
  },
  {
   "cell_type": "markdown",
   "metadata": {},
   "source": [
    "1)Qual foi o jogo mais vendido no mundo em 2010?"
   ]
  },
  {
   "cell_type": "code",
   "execution_count": null,
   "metadata": {},
   "outputs": [],
   "source": [
    "jogo_mais_vendido_2010 = dados_jogos['Name'][dados_jogos['Global_Sales'][(dados_jogos['Year'] == 2010)].idxmax()]\n",
    "\n",
    "print(f'O jogo de video-game mais vendido em 2010 foi \"{jogo_mais_vendido_2010}\".')"
   ]
  },
  {
   "cell_type": "code",
   "execution_count": null,
   "metadata": {},
   "outputs": [],
   "source": [
    "#com .query()\n",
    "jogos_2010 = dados_jogos.query('Year == 2010')\n",
    "\n",
    "#outra forma de comparação\n",
    "jogos_2010 = dados_jogos[dados_jogos['Year'] == 2010]\n",
    "\n",
    "jogo_mais_vendido_2010 = jogos_2010[jogos_2010['Global_Sales'] == jogos_2010['Global_Sales'].max()].max()\n",
    "\n",
    "print(f'O jogo de video-game mais vendido em 2010 foi \"{jogo_mais_vendido_2010[\"Name\"]}\".')"
   ]
  },
  {
   "cell_type": "markdown",
   "metadata": {},
   "source": [
    "2)Qual foi o gênero mais vendido na américa do norte em 2005"
   ]
  },
  {
   "cell_type": "code",
   "execution_count": null,
   "metadata": {},
   "outputs": [],
   "source": [
    "#com .query()\n",
    "genero_mais_vendido_america_norte_2005 = dados_jogos.query('Year == 2005').groupby('Genre')['NA_Sales'].sum().idxmax()\n",
    "\n",
    "#outra forma de comparação\n",
    "genero_mais_vendido_america_norte_2005 = dados_jogos[dados_jogos['Year'] == 2005].groupby('Genre')['NA_Sales'].sum().idxmax()\n",
    "\n",
    "print(f'O gênero de jogos de vídeo-game mais vendido na América do Norte no ano de 2005 foi \"{genero_mais_vendido_america_norte_2005}\".')"
   ]
  },
  {
   "cell_type": "code",
   "execution_count": null,
   "metadata": {},
   "outputs": [],
   "source": [
    "#com .query()\n",
    "dados_jogos_2005 = dados_jogos.query('Year == 2005')\n",
    "\n",
    "#outra forma de comparação\n",
    "dados_jogos_2005 = dados_jogos[dados_jogos['Year'] == 2005]\n",
    "\n",
    "genero_mais_vendido_america_norte_2005 = dados_jogos_2005.groupby('Genre')['NA_Sales'].sum().idxmax()\n",
    "\n",
    "print(f'O gênero de jogos de vídeo-game mais vendido na América do Norte no ano de 2005 foi \"{genero_mais_vendido_america_norte_2005}\".')"
   ]
  },
  {
   "cell_type": "markdown",
   "metadata": {},
   "source": [
    "3)Qual foi a empresa que mais vendeu de 2005 até 2016"
   ]
  },
  {
   "cell_type": "code",
   "execution_count": null,
   "metadata": {},
   "outputs": [],
   "source": [
    "#com .query()\n",
    "dados_jogos_2005_a_2016 = dados_jogos.query('Year >= 2005 & Year <= 2016')\n",
    "\n",
    "#outra forma de comparação\n",
    "dados_jogos_2005_a_2016 = dados_jogos[(dados_jogos['Year'] >= 2005) & ((dados_jogos['Year'] <= 2016))]\n",
    "\n",
    "dados_jogos_2005_a_2016_agrupado_fabricante = dados_jogos_2005_a_2016.groupby('Publisher')\n",
    "empresa_que_mais_vendeu_2005_a_2016 = dados_jogos_2005_a_2016_agrupado_fabricante['Global_Sales'].sum().idxmax()\n",
    "\n",
    "print(f'A empresa que mais vendeu jogos de vídeo-game dentre os anos de 2005 e 2016 foi \"{empresa_que_mais_vendeu_2005_a_2016}\".')"
   ]
  },
  {
   "cell_type": "code",
   "execution_count": null,
   "metadata": {},
   "outputs": [],
   "source": [
    "#com .query()\n",
    "empresa_que_mais_vendeu_2005_a_2016 = dados_jogos.query('Year >= 2005 & Year <= 2016').groupby('Publisher')['Global_Sales'].sum().idxmax()\n",
    "\n",
    "#outra forma de comparação\n",
    "empresa_que_mais_vendeu_2005_a_2016 = dados_jogos[(dados_jogos['Year'] >= 2005) & ((dados_jogos['Year'] <= 2016))].groupby('Publisher')['Global_Sales'].sum().idxmax()\n",
    "\n",
    "print(f'A empresa que mais vendeu jogos de vídeo-game dentre os anos de 2005 e 2016 foi \"{empresa_que_mais_vendeu_2005_a_2016}\".')"
   ]
  },
  {
   "cell_type": "markdown",
   "metadata": {},
   "source": [
    "4)Qual o nome do jogo que menos foi vendido em 2008 do gênero Sports."
   ]
  },
  {
   "cell_type": "code",
   "execution_count": null,
   "metadata": {},
   "outputs": [],
   "source": [
    "#com .query()\n",
    "dados_jogos_2008 = dados_jogos.query('Year == 2008 & Genre == \"Sports\"')\n",
    "\n",
    "#outra forma de comparação\n",
    "dados_jogos_2008 = dados_jogos[(dados_jogos['Year'] == 2008) & (dados_jogos['Genre'] == \"Sports\")]\n",
    "\n",
    "#quantidade mínima de vendas do jogo de vídeo-game menos vendido em 2008\n",
    "quantidade_vendas_jogo_menos_vendido_2008_sports = dados_jogos_2008['Global_Sales'].min()\n",
    "\n",
    "#jogos que possuem exatamente a quantidade mínima de vendas do jogo de vídeo-game menos vendido em 2008\n",
    "jogo_menos_vendido_2008_sports = dados_jogos_2008['Name'][dados_jogos['Global_Sales'] == quantidade_vendas_jogo_menos_vendido_2008_sports]\n",
    "\n",
    "#imprime os jogos encontrados\n",
    "print(f'Os jogos de vídeo-game que menos foram vendidos em 2008 do gênero \"Sports\" foram: \\n{jogo_menos_vendido_2008_sports}')"
   ]
  },
  {
   "cell_type": "markdown",
   "metadata": {},
   "source": [
    "5)Mostre um gráfico com o total de vendas por ano."
   ]
  },
  {
   "cell_type": "code",
   "execution_count": null,
   "metadata": {},
   "outputs": [],
   "source": [
    "#cria DatFrame com dados agrupados pela coluna \"Ano\" somando a coluna \"Global_Sales\"\n",
    "total_vendas_por_ano = dados_jogos.groupby('Year')['Global_Sales'].sum()\n",
    "\n",
    "#cria gráfica do tipo barras\n",
    "ax = total_vendas_por_ano.plot(kind='barh', figsize=(10,8), grid=True, use_index=True, color='red')\n",
    "\n",
    "#adiciona valores da coluna \"Global_Sales\" ao final de cada barra da coluna \"Year\"\n",
    "for container in ax.containers:\n",
    "    ax.bar_label(container)\n",
    "\n",
    "#propriedades de plotagem do gráfico\n",
    "plt.title('Vendas de Jogos de Video-Game por Ano', fontsize=20)\n",
    "plt.ylabel('Ano', fontsize=15)\n",
    "plt.xlabel('Vendas Globais (em milhões)', fontsize=15)\n",
    "plt.show()"
   ]
  },
  {
   "cell_type": "markdown",
   "metadata": {},
   "source": [
    "6)Qual foi o ano com mais lançamentos de jogos?"
   ]
  },
  {
   "cell_type": "code",
   "execution_count": null,
   "metadata": {},
   "outputs": [],
   "source": [
    "#agrupa dados por ano\n",
    "dados_agrupados_ano = dados_jogos['Year'].value_counts().reset_index()\n",
    "\n",
    "#encontra a maior ocorrência de registro por ano\n",
    "maior_numero_lancamentos = dados_jogos['Year'].value_counts().max()\n",
    "\n",
    "#verifica a partir da quantidade quantos anos possuem a maior quantidade encontrada no agrupamento\n",
    "ano_mais_lancamentos = dados_agrupados_ano['Year'][dados_agrupados_ano['count'] == maior_numero_lancamentos].max()\n",
    "\n",
    "#retorna os anos com maior quantidade\n",
    "print(f'O ano em que houve a maior quantidade de lançamento de jogosa de vídeo-game foi em {ano_mais_lancamentos}.')"
   ]
  },
  {
   "cell_type": "markdown",
   "metadata": {},
   "source": [
    "7)Qual a plataforma que menos lançou jogos?"
   ]
  },
  {
   "cell_type": "code",
   "execution_count": null,
   "metadata": {},
   "outputs": [],
   "source": [
    "#agrupa dados por plataforma\n",
    "dados_agrupados_plataformas = dados_jogos['Platform'].value_counts().reset_index()\n",
    "\n",
    "#encontra a menor ocorrência de registro por plataforma\n",
    "quantidade_lancada_plataforma_menos_lancou = dados_jogos['Platform'].value_counts().min()\n",
    "\n",
    "#verifica a partir da quantidade quantas plataformas possuem a menor quantidade encontrada no agrupamento\n",
    "plataforma_menos_lancou = dados_agrupados_plataformas['Platform'][dados_agrupados_plataformas['count'] == quantidade_lancada_plataforma_menos_lancou]\n",
    "\n",
    "#retorna as plataformas com menor quantidade\n",
    "print(f'O ano em que houve a maior quantidade de lançamento de jogosa de vídeo-game foi em {plataforma_menos_lancou}.')"
   ]
  },
  {
   "cell_type": "markdown",
   "metadata": {},
   "source": [
    "8)Qual plataforma que mais gerou lucros com jogos do gênero Action desde 2009?"
   ]
  },
  {
   "cell_type": "code",
   "execution_count": null,
   "metadata": {},
   "outputs": [],
   "source": [
    "#cria DataFrame com dados filtrados pelas colunas \"Genre\" (\"Action\") and \"Year\" (maiores ou igual a 2009)\n",
    "jogos_action_desde_2009 = dados_jogos.query('Genre == \"Action\" & Year >= 2009')\n",
    "\n",
    "#encontra qual é o índice da coluna \"Platform\" com maior valor de \"Global_Sales\" somado\n",
    "plataforma_mais_lucro = jogos_action_desde_2009.groupby('Platform')['Global_Sales'].sum().idxmax()\n",
    "\n",
    "#imprime o nome da plataforma\n",
    "print(f'A plataforma que mais gerou lucros com jogos do genêro \"Action\" desde 2009 foi {plataforma_mais_lucro}.')"
   ]
  },
  {
   "cell_type": "markdown",
   "metadata": {},
   "source": [
    "9)Qual empresa teve o maior lucro (sob o teto de 0.35 milhões) de 1980 até 1995, excluindo-se a plataforma SNES."
   ]
  },
  {
   "cell_type": "code",
   "execution_count": null,
   "metadata": {},
   "outputs": [],
   "source": [
    "#Dados entre 1980 e 1995\n",
    "dados_1980_a_1995 = dados_jogos.query('Year >= 1980 & Year <= 1995')\n",
    "\n",
    "#Dados entre 1980 e 1995 sem plataforma SNES\n",
    "dados_1980_a_1995_sem_snes = dados_1980_a_1995.query('Platform != \"SNES\"')\n",
    "\n",
    "#Dados entre 1980 e 1995 sem plataforma SNES agrupados por empresa somando vendas globais\n",
    "dados_1980_a_1995_sem_snes_por_empresa = dados_1980_a_1995_sem_snes.groupby('Publisher')['Global_Sales'].sum().reset_index()\n",
    "\n",
    "#Empresas com vendas globais iguais ou inferiores a 0.35 entre 1980 e 1995 sem plataforma SNES\n",
    "dados_1980_a_1995_sem_snes_por_empresa_menor_035 = dados_1980_a_1995_sem_snes_por_empresa[dados_1980_a_1995_sem_snes_por_empresa['Global_Sales'] <= 0.35]\n",
    "\n",
    "#Maior lucro encontrado entre 1980 e 1995 sem plataforma SNES com vendas globais iguais ou inferiores a 0.35\n",
    "maior_lucro_teto_035 = dados_1980_a_1995_sem_snes_por_empresa_menor_035['Global_Sales'].max()\n",
    "\n",
    "#Empresas que tiveram exatamente o maior lucro encontrado entre 1980 e 1995 sem plataforma SNES com vendas globais iguais ou inferiores a 0.35\n",
    "empresas_maior_lucro = dados_1980_a_1995_sem_snes_por_empresa_menor_035['Publisher'][dados_1980_a_1995_sem_snes_por_empresa_menor_035['Global_Sales'] == maior_lucro_teto_035].max()\n",
    "\n",
    "#mostra as empresas\n",
    "print(f'A empresa que obteve o maior lucro entre 1980 e 1995, sob o teto de U$ 0,350 mihões, excluindo a plataforma \"SNES\" foi {empresas_maior_lucro}.')"
   ]
  },
  {
   "cell_type": "markdown",
   "metadata": {},
   "source": [
    "10)A empresa que mais lucrou no Japão em 2003 é a mesma que mais lucrou na europa nesse mesmo ano?"
   ]
  },
  {
   "cell_type": "code",
   "execution_count": null,
   "metadata": {},
   "outputs": [],
   "source": [
    "#Dados em 2003\n",
    "dados_2003 = dados_jogos.query('Year == 2003')"
   ]
  },
  {
   "cell_type": "code",
   "execution_count": null,
   "metadata": {},
   "outputs": [],
   "source": [
    "#Dados de 2003 agrupados por empresas somando valores de venda no Japão\n",
    "somatorio_lucro_japao_2003_empresa = dados_2003.groupby('Publisher')['JP_Sales'].sum().reset_index()\n",
    "\n",
    "#Maior lucro encontrado nos dados de 2003 para empresas em valores de venda no Japão\n",
    "maior_lucro_japao_2003 = somatorio_lucro_japao_2003_empresa['JP_Sales'].max()\n",
    "\n",
    "#Empresas que possuem exatamente o maior lucro encontrado nos dados de 2003 para valores de venda no Japão\n",
    "empresa_maior_lucro_japao_2003 = somatorio_lucro_japao_2003_empresa['Publisher'][somatorio_lucro_japao_2003_empresa['JP_Sales'] == maior_lucro_japao_2003].max()\n",
    "\n",
    "print(f'A empresa que mais lucrou no Japão em 2003 foi \"{empresa_maior_lucro_japao_2003}\".')"
   ]
  },
  {
   "cell_type": "code",
   "execution_count": null,
   "metadata": {},
   "outputs": [],
   "source": [
    "#Dados de 2003 agrupados por empresas somando valores de venda na Europa\n",
    "somatorio_lucro_europa_2003_empresa = dados_2003.groupby('Publisher')['EU_Sales'].sum().reset_index()\n",
    "\n",
    "#Maior lucro encontrado nos dados de 2003 para empresas em valores de venda na Europa\n",
    "maior_lucro_europa_2003 = somatorio_lucro_europa_2003_empresa['EU_Sales'].max()\n",
    "\n",
    "#Empresas que possuem exatamente o maior lucro encontrado nos dados de 2003 para valores de venda na Europa\n",
    "empresa_maior_lucro_europa_2003 = somatorio_lucro_europa_2003_empresa['Publisher'][somatorio_lucro_europa_2003_empresa['EU_Sales'] == maior_lucro_europa_2003].max()\n",
    "\n",
    "print(f'A empresa que mais lucrou na Europa em 2003 foi \"{empresa_maior_lucro_europa_2003}\".')"
   ]
  },
  {
   "cell_type": "code",
   "execution_count": null,
   "metadata": {},
   "outputs": [],
   "source": [
    "#compara se foram ou não as mesmas empresas que obtiveram maior lucro no Japão e Europa em 2003\n",
    "if (empresa_maior_lucro_japao_2003 != empresa_maior_lucro_europa_2003):\n",
    "    print(f'A empresa que mais lucrou com vendas de jogos de víde-game no Japão em 2003 não é a mesma que mais lucrou no mesmo período para o mesmo tipo de venda na Europa.')\n",
    "else:\n",
    "    print(f'Em 2003, a empresa que mais lucrou com vendas de vídeo-game no Japão é a mesma que mais lucrou na Europa.')"
   ]
  },
  {
   "cell_type": "markdown",
   "metadata": {},
   "source": [
    "11)Qual o percentual relacionado às vendas globais de jogos de Wii (excluindo-se América do norte, japão e europa) de 2006 até 2010?"
   ]
  },
  {
   "cell_type": "code",
   "execution_count": null,
   "metadata": {},
   "outputs": [],
   "source": [
    "#Criando coluna no DataFrame contendo dados de Vendas Globais, excluindo America do Norte, Europa e Japão\n",
    "dados_jogos['Global_Sales_Whitout_AN_JP_EU'] = dados_jogos['Global_Sales'] - (dados_jogos['NA_Sales'] + dados_jogos['EU_Sales'] + dados_jogos['JP_Sales'])\n",
    "\n",
    "#Dados de 2006 a 2010\n",
    "dados_2006_2010 = dados_jogos.query('Year >= 2006 & Year < 2010')\n",
    "\n",
    "#Número de Vendas Globais sem AN, EU e Japão entre 2006 e 2010\n",
    "total_vendas_2006_2010 = dados_2006_2010['Global_Sales_Whitout_AN_JP_EU'].sum()\n",
    "\n",
    "#Dados das Vendas Globais do Wii sem AN, EU e Japão entre 2006 e 2010\n",
    "vendas_wii_2006_2010 = dados_2006_2010.query('Platform == \"Wii\"')\n",
    "\n",
    "#Número de Vendas Globais do Wii sem AN, EU e Japão entre 2006 e 2010\n",
    "total_vendas_wii_2006_2010 = vendas_wii_2006_2010['Global_Sales_Whitout_AN_JP_EU'].sum()\n",
    "\n",
    "#Percentual de Vendas Globais do Wii sem AN, EU e Japão entre 2006 e 2010\n",
    "percentual_total_vendas_wii_2006_2010 = (total_vendas_wii_2006_2010 * 100) / total_vendas_2006_2010\n",
    "\n",
    "#Demonstra em tela as informações\n",
    "print(f'Vendas Totais: U$ {total_vendas_2006_2010:.2f}\\n'\n",
    "      f'Vendas Wii: U$ {total_vendas_wii_2006_2010:.2f}\\n'\n",
    "      f'Percentual: {percentual_total_vendas_wii_2006_2010:.2f}%.')"
   ]
  },
  {
   "cell_type": "markdown",
   "metadata": {},
   "source": [
    "12)Mostre um gráfico de linhas com as vendas em diferentes plataformas ao longo dos anos."
   ]
  },
  {
   "cell_type": "code",
   "execution_count": null,
   "metadata": {},
   "outputs": [],
   "source": [
    "import matplotlib.pyplot as plt\n",
    "vendas_plataforma = dados_jogos.groupby(['Platform', 'Year'])['Global_Sales'].sum().reset_index()\n",
    "vendas_plataforma"
   ]
  },
  {
   "cell_type": "code",
   "execution_count": null,
   "metadata": {},
   "outputs": [],
   "source": [
    "#cria DataFrame com informações agrupadas por plataforma e ano, somando vandas globais\n",
    "vendas_plataforma = dados_jogos.groupby(['Platform', 'Year'])['Global_Sales'].sum().reset_index()\n",
    "\n",
    "#Cria gráfico de linha pelo seaborn\n",
    "sns.lineplot(data = vendas_plataforma, y='Global_Sales', x='Year', hue='Platform')\n",
    "\n",
    "#cria legenda e posiciona do lado de fora d gráfico\n",
    "plt.legend(bbox_to_anchor=(1.02, 1), loc='upper left', borderaxespad=0, title='Plataforma')\n",
    "\n",
    "#título do gráfico\n",
    "plt.title('Vendas Globais de Jogos por Plataforma e por Ano', fontsize=15)\n",
    "\n",
    "#legenda eixo x\n",
    "plt.xlabel('Ano', fontsize=15)\n",
    "\n",
    "#legenda eixo y\n",
    "plt.ylabel('Vendas Globais', fontsize=15)\n",
    "\n",
    "#mostra o gráfico\n",
    "plt.show()"
   ]
  },
  {
   "cell_type": "markdown",
   "metadata": {},
   "source": [
    "13)Mostre um gráfico de pizza com o percentual de vendas dos diferentes\n",
    "gêneros de jogos."
   ]
  },
  {
   "cell_type": "code",
   "execution_count": null,
   "metadata": {},
   "outputs": [],
   "source": [
    "#cria DataFrame com dados filtrados pela coluna \"Genre\" com dados da coluna \"Global_Sales\" somados\n",
    "#criado um gráfico do tipo \"Pie Chart\"\n",
    "dados_jogos.groupby('Genre')['Global_Sales'].sum().plot(kind='pie', y='Genre', autopct='%1.0f%%', figsize=(12,6), fontsize=8)\n",
    "\n",
    "#Informado título do gráfico\n",
    "plt.title('Gêneros x Vendas Globais')\n",
    "\n",
    "plt.show()"
   ]
  }
 ],
 "metadata": {
  "kernelspec": {
   "display_name": "Python 3",
   "language": "python",
   "name": "python3"
  },
  "language_info": {
   "codemirror_mode": {
    "name": "ipython",
    "version": 3
   },
   "file_extension": ".py",
   "mimetype": "text/x-python",
   "name": "python",
   "nbconvert_exporter": "python",
   "pygments_lexer": "ipython3",
   "version": "3.11.2"
  },
  "orig_nbformat": 4
 },
 "nbformat": 4,
 "nbformat_minor": 2
}
