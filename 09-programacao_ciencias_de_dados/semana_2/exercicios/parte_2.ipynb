{
 "cells": [
  {
   "cell_type": "markdown",
   "metadata": {},
   "source": [
    "Parte 2\n",
    "\n",
    "Utilize o dataset contido nesse <a href=\"https://www.kaggle.com/datasets/upadorprofzs/testes\"> link </a>, e responda as questões abaixo. O dataset contém dados estatísticos do IBGE relativos à escolaridade, renda entre outros campos avaliados pela PNAD (Pesquisa Nacional por Amostra de Domicílios). Os dados podem representar informações relevantes e reveladoras sobre a distribuição de renda e possivelmente alguns indicadores sobre tais situações encontradas a partir dos dados."
   ]
  },
  {
   "cell_type": "code",
   "execution_count": null,
   "metadata": {},
   "outputs": [],
   "source": [
    "import pandas as pd\n",
    "import matplotlib.pyplot as plt\n",
    "import seaborn as sns\n",
    "\n",
    "dados = pd.read_csv('arquivo/dados.csv') #carrega base de dados formato csv\n",
    "dados.shape #quantidade de linhas e colunas do DataFrame\n",
    "# dados.head() #5 primeitos registros do DataFrame\n",
    "# dados.isnull().count() #quantidade de dados nulos"
   ]
  },
  {
   "cell_type": "markdown",
   "metadata": {},
   "source": [
    "Dicionário de Dados:\n",
    "\n",
    "UFs"
   ]
  },
  {
   "cell_type": "code",
   "execution_count": null,
   "metadata": {},
   "outputs": [],
   "source": [
    "ufs = pd.DataFrame({'codigo': [11, 12, 13, 14, 15, 16, 17, 21, 22, 23, 24, 25, 26, 27, 28, 29, 31, 32, 33, 35, 41, 42, 43, 50, 51, 52, 53],\n",
    "                   'descricao': ['Rondônia', 'Acre', 'Amazonas', 'Roraima', 'Pará', 'Amapá', 'Tocantins', 'Maranhão', 'Piauí', 'Ceará', 'Rio Grande do Norte', 'Paraíba', 'Pernambuco', 'Alagoas', 'Sergipe', 'Bahia', 'Minas Gerais', 'Espírito Santo', 'Rio de Janeiro', 'São Paulo', 'Paraná', 'Santa Catarina', 'Rio Grande do Sul', 'Mato Grosso do Sul', 'Mato Grosso', 'Goiás', 'Distrito Federal']})"
   ]
  },
  {
   "cell_type": "markdown",
   "metadata": {},
   "source": [
    "Escolaridade (Anos de Estudo)"
   ]
  },
  {
   "cell_type": "code",
   "execution_count": null,
   "metadata": {},
   "outputs": [],
   "source": [
    "escolaridade = pd.DataFrame({'codigo': [1,2,3,4,5,6,7,8,9,10,11,12,13,14,15,16,17],\n",
    "                             'descricao': ['Sem instrução e menos de 1 ano' , '1 ano' , '2 anos' , '3 anos' , '4 anos' , '5 anos', '6 anos' , '7 anos' , '8 anos' , '9 anos' , '10 anos' , '11 anos' , '12 anos' , '13 anos' , '14 anos' , '15 anos ou mais' , 'Não determinados / Não aplicável']})"
   ]
  },
  {
   "cell_type": "markdown",
   "metadata": {},
   "source": [
    "Raça"
   ]
  },
  {
   "cell_type": "code",
   "execution_count": null,
   "metadata": {},
   "outputs": [],
   "source": [
    "raca = pd.DataFrame({'codigo': [0, 2, 4, 6, 8, 9], 'descricao': ['Indígena' ,'Branca' ,'Preta' ,'Amarela' ,'Parda' ,'Sem declaração']})"
   ]
  },
  {
   "cell_type": "markdown",
   "metadata": {},
   "source": [
    "Sexo"
   ]
  },
  {
   "cell_type": "code",
   "execution_count": null,
   "metadata": {},
   "outputs": [],
   "source": [
    "sexo = pd.DataFrame({'codigo': [0,1], 'descricao': ['Masculino', 'Feminino']})"
   ]
  },
  {
   "cell_type": "markdown",
   "metadata": {},
   "source": [
    "1)Qual a quantidade de pessoas nas seguintes faixas etárias"
   ]
  },
  {
   "cell_type": "markdown",
   "metadata": {},
   "source": [
    "  a) 20 anos ou menos"
   ]
  },
  {
   "cell_type": "code",
   "execution_count": null,
   "metadata": {},
   "outputs": [],
   "source": [
    "#busca informações para a faixa de idades\n",
    "idade_20 = dados.query('Idade <= 20')\n",
    "\n",
    "#valida se o DataFrame retornado é vazio\n",
    "if(idade_20.empty):\n",
    "    #Imprime mensagem de que o DataFrame não possui dados\n",
    "    print(f'Não há pessoas na base de dados com idade de 20 anos ou menos.')\n",
    "else:\n",
    "    #apresenta busca em tela\n",
    "    print(f'Há {len(idade_20)} pessoas na base de dados com idade de 20 anos ou menos.')"
   ]
  },
  {
   "cell_type": "markdown",
   "metadata": {},
   "source": [
    "b) 21 a 35 anos"
   ]
  },
  {
   "cell_type": "code",
   "execution_count": null,
   "metadata": {},
   "outputs": [],
   "source": [
    "#busca informações para a faixa de idades\n",
    "idade_21_35 = dados.query('Idade >= 21 & Idade <= 35')\n",
    "\n",
    "#valida se o DataFrame retornado é vazio\n",
    "if(idade_21_35.empty):\n",
    "    #Imprime mensagem de que o DataFrame não possui dados\n",
    "    print(f'Não há pessoas na base de dados com idade entre 21 anos e 35 anos.')\n",
    "else:\n",
    "    #apresenta busca em tela\n",
    "    print(f'Há {len(idade_21_35)} pessoas na base de dados com idade entre 21 anos e 35 anos.')"
   ]
  },
  {
   "cell_type": "markdown",
   "metadata": {},
   "source": [
    "c) 36 a 50 anos"
   ]
  },
  {
   "cell_type": "code",
   "execution_count": null,
   "metadata": {},
   "outputs": [],
   "source": [
    "#busca informações para a faixa de idades\n",
    "idade_36_50 = dados.query('Idade >= 36 & Idade <= 50')\n",
    "\n",
    "#valida se o DataFrame retornado é vazio\n",
    "if(idade_36_50.empty):\n",
    "    #Imprime mensagem de que o DataFrame não possui dados\n",
    "    print(f'Não há pessoas na base de dados com idade entre 36 anos e 50 anos.')\n",
    "else:\n",
    "    #apresenta busca em tela\n",
    "    print(f'Há {len(idade_36_50)} pessoas na base de dados com idade entre 36 anos e 50 anos.')"
   ]
  },
  {
   "cell_type": "markdown",
   "metadata": {},
   "source": [
    "d) 51 a 65 anos"
   ]
  },
  {
   "cell_type": "code",
   "execution_count": null,
   "metadata": {},
   "outputs": [],
   "source": [
    "#busca informações para a faixa de idades\n",
    "idade_51_65 = dados.query('Idade >= 51 & Idade <= 65')\n",
    "\n",
    "#valida se o DataFrame retornado é vazio\n",
    "if(idade_51_65.empty):\n",
    "    #Imprime mensagem de que o DataFrame não possui dados\n",
    "    print(f'Não há pessoas na base de dados com idade entre 51 anos e 65 anos.')\n",
    "else:\n",
    "    #apresenta busca em tela\n",
    "    print(f'Há {len(idade_51_65)} pessoas na base de dados com idade entre 51 anos e 65 anos.')"
   ]
  },
  {
   "cell_type": "markdown",
   "metadata": {},
   "source": [
    "e) maiores de 65 anos"
   ]
  },
  {
   "cell_type": "code",
   "execution_count": null,
   "metadata": {},
   "outputs": [],
   "source": [
    "#busca informações para a faixa de idades\n",
    "idade_65_mais = dados.query('Idade > 65')\n",
    "\n",
    "#valida se o DataFrame retornado é vazio\n",
    "if(idade_65_mais.empty):\n",
    "    #Imprime mensagem de que o DataFrame não possui dados\n",
    "    print(f'Não há pessoas na base de dados com idade superior a 65 anos.')\n",
    "else:\n",
    "    #apresenta busca em tela\n",
    "    print(f'Há {len(idade_65_mais)} pessoas na base de dados com idade superior a 65 anos.')"
   ]
  },
  {
   "cell_type": "markdown",
   "metadata": {},
   "source": [
    "2)Qual é a média de escolaridade em cada faixa etária?"
   ]
  },
  {
   "cell_type": "markdown",
   "metadata": {},
   "source": [
    "a) 20 anos ou menos"
   ]
  },
  {
   "cell_type": "code",
   "execution_count": null,
   "metadata": {},
   "outputs": [],
   "source": [
    "#utiliza DataFrame idade_20 do exercicio 1 a)\n",
    "#valida se o DataFrame está vazio\n",
    "if(idade_20.empty):\n",
    "    print(f'Não há pessoas na base de dados com idade de 20 anos ou menos.')\n",
    "else:\n",
    "    #calcula média da coluna \"Anos de Estudo\" para a idade\n",
    "    media_idade_20 = idade_20['Anos de Estudo'].mean()\n",
    "    #mostra informações em tela\n",
    "    print(f'Média de escolaridade 20 anos ou menos: {media_idade_20:.2f} anos.')"
   ]
  },
  {
   "cell_type": "markdown",
   "metadata": {},
   "source": [
    "b) 21 a 35 anos"
   ]
  },
  {
   "cell_type": "code",
   "execution_count": null,
   "metadata": {},
   "outputs": [],
   "source": [
    "#utiliza DataFrame idade_21_35 do exercicio 1 b)\n",
    "#valida se o DataFrame está vazio\n",
    "if(idade_21_35.empty):\n",
    "    print(f'Não há pessoas na base de dados com idade entre 21 anos e 35 anos.')\n",
    "else:\n",
    "    #calcula média da coluna \"Anos de Estudo\" para a idade\n",
    "    media_idade_21_35 = idade_21_35['Anos de Estudo'].mean()\n",
    "    #mostra informações em tela\n",
    "    print(f'Média de escolaridade entre 21 anos e 35 anos: {media_idade_21_35:.2f} anos.')"
   ]
  },
  {
   "cell_type": "markdown",
   "metadata": {},
   "source": [
    "c) 36 a 50 anos"
   ]
  },
  {
   "cell_type": "code",
   "execution_count": null,
   "metadata": {},
   "outputs": [],
   "source": [
    "#utiliza DataFrame idade_36_50 do exercicio 1 c)\n",
    "#valida se o DataFrame está vazio\n",
    "if(idade_36_50.empty):\n",
    "    print(f'Não há pessoas na base de dados com idade entre 36 anos e 50 anos.')\n",
    "else:\n",
    "    #calcula média da coluna \"Anos de Estudo\" para a idade\n",
    "    media_idade_36_50 = idade_36_50['Anos de Estudo'].mean()\n",
    "    #mostra informações em tela\n",
    "    print(f'Média de escolaridade entre 36 anos e 50 anos: {media_idade_36_50:.2f} anos.')\n"
   ]
  },
  {
   "cell_type": "markdown",
   "metadata": {},
   "source": [
    "d) 51 a 65 anos"
   ]
  },
  {
   "cell_type": "code",
   "execution_count": null,
   "metadata": {},
   "outputs": [],
   "source": [
    "#utiliza DataFrame _idade_51_65 do exercicio 1 d)\n",
    "#valida se o DataFrame está vazio\n",
    "if(idade_51_65.empty):\n",
    "    print(f'Não há pessoas na base de dados com idade entre 51 anos e 65 anos.')\n",
    "else:\n",
    "    #calcula média da coluna \"Anos de Estudo\" para a idade\n",
    "    media_idade_51_65 = idade_51_65['Anos de Estudo'].mean()\n",
    "    #mostra informações em tela\n",
    "    print(f'Média de escolaridade entre 51 anos e 65 anos: {media_idade_51_65:.2f} anos.')"
   ]
  },
  {
   "cell_type": "markdown",
   "metadata": {},
   "source": [
    "e) maiores de 65 anos"
   ]
  },
  {
   "cell_type": "code",
   "execution_count": null,
   "metadata": {},
   "outputs": [],
   "source": [
    "#utiliza DataFrame idade_65_mais do exercicio 1 e)\n",
    "#valida se o DataFrame está vazio\n",
    "if(idade_65_mais.empty):\n",
    "    print(f'Não há pessoas na base de dados com idade superiores a 65 anos.')\n",
    "else:\n",
    "    #calcula média da coluna \"Anos de Estudo\" para a idade)\n",
    "    media_idade_65_mais = idade_65_mais['Anos de Estudo'].mean()\n",
    "    #mostra informações em tela\n",
    "    print(f'Média de escolaridade superior a 65 anos: {media_idade_65_mais:.2f} anos.')"
   ]
  },
  {
   "cell_type": "markdown",
   "metadata": {},
   "source": [
    "3)Qual a UF que concentra a maior renda?\n"
   ]
  },
  {
   "cell_type": "code",
   "execution_count": null,
   "metadata": {},
   "outputs": [],
   "source": [
    "#retorna o índice do maior valor encontrado nas informações agrupadas pela coluna \"UF\", somando os valores da coluna \"Renda\"\n",
    "dados_agrupados_uf_renda = dados.groupby('UF')['Renda'].sum().idxmax()\n",
    "\n",
    "#busca no dicionário \"ufs\" o nome do estado correspondente ao índice encontrado\n",
    "estado = ufs['descricao'][ufs['codigo'] == dados_agrupados_uf_renda].max()\n",
    "\n",
    "#apresenta o nome doe stado em tela\n",
    "print(f'Estado com maior concentração de renda: {estado}.')"
   ]
  },
  {
   "cell_type": "markdown",
   "metadata": {},
   "source": [
    "4)Qual a renda média de pessoas pretas e brancas de homens e mulheres?"
   ]
  },
  {
   "cell_type": "markdown",
   "metadata": {},
   "source": [
    "Pessoas pretas homens"
   ]
  },
  {
   "cell_type": "code",
   "execution_count": null,
   "metadata": {},
   "outputs": [],
   "source": [
    "#cria DataFrame com informações filtradas pelas colunas \"Cor\" 4 (\"Preta\") e \"Sexo\" 0 (\"Masculino\")\n",
    "pessoas_pretas_homens = dados.query('Cor == 4 & Sexo == 0')\n",
    "#verifica se o DataFrame é vazio\n",
    "if (pessoas_pretas_homens.empty):\n",
    "    #se DataFrame vazio, imprime em tela mensagem\n",
    "    print(f'Não há pessoas pretas homens na base de dados.')\n",
    "else:\n",
    "    #se DataFrame com informações, calcula média para a coluna \"Renda\"\n",
    "    media_pessoas_pretas_homens = pessoas_pretas_homens['Renda'].mean()\n",
    "    #imprime média da coluna \"Renda\" na tela\n",
    "    print(f'Média de renda de pessoas pretas homens: R$ {media_pessoas_pretas_homens:.2f}.')"
   ]
  },
  {
   "cell_type": "markdown",
   "metadata": {},
   "source": [
    "Pessoas pretas mulheres"
   ]
  },
  {
   "cell_type": "code",
   "execution_count": null,
   "metadata": {},
   "outputs": [],
   "source": [
    "\n",
    "#cria DataFrame com informações filtradas pelas colunas \"Cor\" 4 (\"Preta\") e \"Sexo\" 1 (\"Feminina\")\n",
    "pessoas_pretas_mulheres = dados.query('Cor == 4 & Sexo == 1')\n",
    "#verifica se o DataFrame é vazio\n",
    "if (pessoas_pretas_mulheres.empty):\n",
    "    #se DataFrame vazio, imprime em tela mensagem\n",
    "    print(f'Não há pessoas pretas mulheres na base de dados.')\n",
    "else:\n",
    "    #se DataFrame com informações, calcula média para a coluna \"Renda\"\n",
    "    media_pessoas_pretas_mulheres = pessoas_pretas_mulheres['Renda'].mean()\n",
    "    #imprime média da coluna \"Renda\" na tela\n",
    "    print(f'Média de renda de pessoas pretas mulheres: R$ {media_pessoas_pretas_mulheres:.2f}.')"
   ]
  },
  {
   "cell_type": "markdown",
   "metadata": {},
   "source": [
    "Pessoas brancas homens"
   ]
  },
  {
   "cell_type": "code",
   "execution_count": null,
   "metadata": {},
   "outputs": [],
   "source": [
    "\n",
    "#cria DataFrame com informações filtradas pelas colunas \"Cor\" 2 (\"Branca\") e \"Sexo\" 0 (\"Masculino\")\n",
    "pessoas_brancas_homens = dados.query('Cor == 2 & Sexo == 0')\n",
    "#verifica se o DataFrame é vazio\n",
    "if (pessoas_brancas_homens.empty):\n",
    "    #se DataFrame vazio, imprime em tela mensagem\n",
    "    print(f'Não há pessoas brancas homens na base de dados.')\n",
    "else:\n",
    "    #se DataFrame com informações, calcula média para a coluna \"Renda\"\n",
    "    media_pessoas_brancas_homens = pessoas_brancas_homens['Renda'].mean()\n",
    "    #imprime média da coluna \"Renda\" na tela\n",
    "    print(f'Média de renda de pessoas brancas homens: R$ {media_pessoas_brancas_homens:.2f}.')"
   ]
  },
  {
   "cell_type": "markdown",
   "metadata": {},
   "source": [
    "Pessoas brancas mulheres"
   ]
  },
  {
   "cell_type": "code",
   "execution_count": null,
   "metadata": {},
   "outputs": [],
   "source": [
    "\n",
    "#cria DataFrame com informações filtradas pelas colunas \"Cor\" 2 (\"Branca\") e \"Sexo\" 1 (\"Feminina\")\n",
    "pessoas_brancas_mulheres = dados.query('Cor == 2 & Sexo == 1')\n",
    "#verifica se o DataFrame é vazio\n",
    "if (pessoas_brancas_mulheres.empty):\n",
    "    #se DataFrame vazio, imprime em tela mensagem\n",
    "    print(f'Não há pessoas brancas mulheres na base de dados.')\n",
    "else:\n",
    "    #se DataFrame com informações, calcula média para a coluna \"Renda\"\n",
    "    media_pessoas_brancas_mulheres = pessoas_brancas_mulheres['Renda'].mean()\n",
    "    print(f'Média de renda de pessoas brancas mulheres: R$ {media_pessoas_brancas_mulheres:.2f}.')"
   ]
  },
  {
   "cell_type": "markdown",
   "metadata": {},
   "source": [
    "5)Qual a renda média concentrada em cada faixa etária?"
   ]
  },
  {
   "cell_type": "markdown",
   "metadata": {},
   "source": [
    "a) 20 anos ou menos"
   ]
  },
  {
   "cell_type": "code",
   "execution_count": null,
   "metadata": {},
   "outputs": [],
   "source": [
    "#valida se o DataFrame está vazio\n",
    "if (idade_20.empty):\n",
    "    #se estiver vazio,  iprime em tela inexistência de dados\n",
    "    print(f'Não há pessoas na faixa etária 20 anos ou menos na base de dados.')\n",
    "else:\n",
    "    #se DataFrame possui dados, calcula média da coluna \"Renda\" para dados na faixa etária\n",
    "    renda_idade_20 = idade_20['Renda'].mean()\n",
    "    #imprime média da coluna \"Renda\" em tela\n",
    "    print(f'Renda média faixa etária 20 anos ou menos: R$ {renda_idade_20:.2f}.')"
   ]
  },
  {
   "cell_type": "markdown",
   "metadata": {},
   "source": [
    "b) 21 a 35 anos"
   ]
  },
  {
   "cell_type": "code",
   "execution_count": null,
   "metadata": {},
   "outputs": [],
   "source": [
    "#valida se o DataFrame está vazio\n",
    "if (idade_21_35.empty):\n",
    "    #se estiver vazio,  iprime em tela inexistência de dados\n",
    "    print(f'Não há pessoas na faixa etária de 21 anos a 35 anos na base de dados.')\n",
    "else:\n",
    "    #se DataFrame possui dados, calcula média da coluna \"Renda\" para dados na faixa etária\n",
    "    renda_idade_21_35 = idade_21_35['Renda'].mean()\n",
    "    #imprime média da coluna \"Renda\" em tela\n",
    "    print(f'Renda média faixa etária entre 21 anos e 35 anos: R$ {renda_idade_21_35:.2f}.')"
   ]
  },
  {
   "cell_type": "markdown",
   "metadata": {},
   "source": [
    "c) 36 a 50 anos"
   ]
  },
  {
   "cell_type": "code",
   "execution_count": null,
   "metadata": {},
   "outputs": [],
   "source": [
    "#valida se o DataFrame está vazio\n",
    "if (idade_36_50.empty):\n",
    "    #se estiver vazio,  iprime em tela inexistência de dados\n",
    "    print(f'Não há pessoas na faixa etária de 36 anos a 50 anos na base de dados.')\n",
    "else:\n",
    "    #se DataFrame possui dados, calcula média da coluna \"Renda\" para dados na faixa etária\n",
    "    renda_idade_36_50 = idade_36_50['Renda'].mean()\n",
    "    #imprime média da coluna \"Renda\" em tela\n",
    "    print(f'Renda média faixa etária entre 36 anos e 50 anos: R$ {renda_idade_36_50:.2f}.')"
   ]
  },
  {
   "cell_type": "markdown",
   "metadata": {},
   "source": [
    "d) 51 a 65 anos"
   ]
  },
  {
   "cell_type": "code",
   "execution_count": null,
   "metadata": {},
   "outputs": [],
   "source": [
    "#valida se o DataFrame está vazio\n",
    "if (idade_51_65.empty):\n",
    "    #se estiver vazio,  iprime em tela inexistência de dados\n",
    "    print(f'Não há pessoas na faixa etária de 51 anos a 65 anos na base de dados.')\n",
    "else:\n",
    "    #se DataFrame possui dados, calcula média da coluna \"Renda\" para dados na faixa etária\n",
    "    renda_idade_51_65 = idade_51_65['Renda'].mean()\n",
    "    #imprime média da coluna \"Renda\" em tela\n",
    "    print(f'Renda média faixa etária entre 51 anos e 65 anos: R$ {renda_idade_51_65:.2f}.')"
   ]
  },
  {
   "cell_type": "markdown",
   "metadata": {},
   "source": [
    "e) maiores de 65 anos"
   ]
  },
  {
   "cell_type": "code",
   "execution_count": null,
   "metadata": {},
   "outputs": [],
   "source": [
    "#valida se o DataFrame está vazio\n",
    "if (idade_65_mais.empty):\n",
    "    #se estiver vazio,  iprime em tela inexistência de dados\n",
    "    print(f'Não há pessoas na faixa etária superior a 65 anos na base de dados.')\n",
    "else:\n",
    "    #se DataFrame possui dados, calcula média da coluna \"Renda\" para dados na faixa etária\n",
    "    renda_idade_65_mais = idade_65_mais['Renda'].mean()\n",
    "    print(f'Renda média faixa etária superior aos 65 anos: R$ {renda_idade_65_mais:.2f}.')"
   ]
  },
  {
   "cell_type": "markdown",
   "metadata": {},
   "source": [
    "6)Qual a renda média nas faixas de anos de estudo abaixo?"
   ]
  },
  {
   "cell_type": "markdown",
   "metadata": {},
   "source": [
    " a) 2 anos ou menos"
   ]
  },
  {
   "cell_type": "code",
   "execution_count": null,
   "metadata": {},
   "outputs": [],
   "source": [
    "#cria DataFrame com informações para a faixa etária\n",
    "idade_2_anos_menos = dados.query('Idade <= 2')\n",
    "\n",
    "#valida se o DataFrame não está vazio\n",
    "if(idade_2_anos_menos.empty):\n",
    "    #se DataFrame vazio, informa inexistência de dados em tela\n",
    "    print(f'Não há pessoas na faixa etária 2 anos ou menos.')\n",
    "else:\n",
    "    #se DataFrame com informações, calcula média da coluna \"Renda\"\n",
    "    renda_idade_2_anos_menos = idade_2_anos_menos['Renda'].mean()\n",
    "    #apresenta média da coluna \"Renda\" em tela\n",
    "    print(f'Renda média faixa etária 2 anos ou menos: R$ {renda_idade_2_anos_menos:.2f}.')"
   ]
  },
  {
   "cell_type": "markdown",
   "metadata": {},
   "source": [
    "b) 3 a 6 anos"
   ]
  },
  {
   "cell_type": "code",
   "execution_count": null,
   "metadata": {},
   "outputs": [],
   "source": [
    "#cria DataFrame com informações para a faixa etária\n",
    "idade_3_6_anos = dados.query('Idade >= 3 & Idade <= 6')\n",
    "\n",
    "#valida se o DataFrame não está vazio\n",
    "if(idade_3_6_anos.empty):\n",
    "    #se DataFrame vazio, informa inexistência de dados em tela\n",
    "    print(f'Não há pessoas na faixa etária entre 3 anos e 6 anos.')\n",
    "else:\n",
    "     #se DataFrame com informações, calcula média da coluna \"Renda\"\n",
    "    renda_idade_3_6_anos = idade_3_6_anos['Renda'].mean()\n",
    "    #apresenta média da coluna \"Renda\" em tela\n",
    "    print(f'Renda média faixa etária entre 3 anos e 6 anos: R$ {renda_idade_3_6_anos:.2f}.')"
   ]
  },
  {
   "cell_type": "markdown",
   "metadata": {},
   "source": [
    "c) 7 a 10 anos"
   ]
  },
  {
   "cell_type": "code",
   "execution_count": null,
   "metadata": {},
   "outputs": [],
   "source": [
    "#cria DataFrame com informações para a faixa etária\n",
    "idade_7_10_anos = dados.query('Idade >= 7 & Idade <= 10')\n",
    "\n",
    "#valida se o DataFrame não está vazio\n",
    "if(idade_7_10_anos.empty):\n",
    "    #se DataFrame vazio, informa inexistência de dados em tela\n",
    "    print(f'Não há pessoas na faixa etária entre 7 anos e 10 anos.')\n",
    "else:\n",
    "    #se DataFrame com informações, calcula média da coluna \"Renda\"\n",
    "    renda_idade_7_10_anos = idade_7_10_anos['Renda'].mean()\n",
    "    #apresenta média da coluna \"Renda\" em tela\n",
    "    print(f'Renda média faixa etária entre 7 anos e 10 anos: R$ {renda_idade_7_10_anos:.2f}.')  "
   ]
  },
  {
   "cell_type": "markdown",
   "metadata": {},
   "source": [
    "d) 10 a 12 anos"
   ]
  },
  {
   "cell_type": "code",
   "execution_count": null,
   "metadata": {},
   "outputs": [],
   "source": [
    "#cria DataFrame com informações para a faixa etária\n",
    "idade_10_12_anos = dados.query('Idade >= 10 & Idade <= 12')\n",
    "\n",
    "#valida se o DataFrame não está vazio\n",
    "if(idade_10_12_anos.empty):\n",
    "    #se DataFrame vazio, informa inexistência de dados em tela\n",
    "    print(f'Não há pessoas na faixa etária entre 10 anos e 12 anos.')\n",
    "else:\n",
    "    #se DataFrame com informações, calcula média da coluna \"Renda\"\n",
    "    renda_idade_10_12_anos = idade_10_12_anos['Renda'].mean()\n",
    "    #apresenta média da coluna \"Renda\" em tela\n",
    "    print(f'Renda média faixa etária entre 10 anos e 12 anos: R$ {renda_idade_10_12_anos:.2f}.')"
   ]
  },
  {
   "cell_type": "markdown",
   "metadata": {},
   "source": [
    "e) 13 anos ou mais"
   ]
  },
  {
   "cell_type": "code",
   "execution_count": null,
   "metadata": {},
   "outputs": [],
   "source": [
    "#cria DataFrame com informações para a faixa etária\n",
    "idade_13_anos_mais = dados.query('Idade >= 13')\n",
    "\n",
    "#valida se o DataFrame não está vazio\n",
    "if(idade_13_anos_mais.empty):\n",
    "    #se DataFrame vazio, informa inexistência de dados em tela\n",
    "    print(f'Não há pessoas na faixa etária entre 13 anos.')\n",
    "else:\n",
    "    #se DataFrame com informações, calcula média da coluna \"Renda\"\n",
    "    renda_idade_13_anos_mais = idade_13_anos_mais['Renda'].mean()\n",
    "    #apresenta média da coluna \"Renda\" em tela\n",
    "    print(f'Renda média faixa etária entre 13 anos: R$ {renda_idade_13_anos_mais:.2f}.')"
   ]
  },
  {
   "cell_type": "markdown",
   "metadata": {},
   "source": [
    "7) Qual a maior escolaridade entre indígenas, para homens e mulheres?"
   ]
  },
  {
   "cell_type": "markdown",
   "metadata": {},
   "source": [
    "Indígenas homens"
   ]
  },
  {
   "cell_type": "code",
   "execution_count": null,
   "metadata": {},
   "outputs": [],
   "source": [
    "#cria DataFrame com informações filtradas pelas colunas \"Cor\" e \"Sexo\" apontada\n",
    "dados_indigenas_homens = dados.query('Cor == 0 & Sexo == 0')\n",
    "\n",
    "#valida se o DataFrame é vazio\n",
    "if (dados_indigenas_homens.empty):\n",
    "    #imprime em tela que não há informações no DataFrame\n",
    "    print('Não há pessoas indígenas homens na base de dados.')\n",
    "else:\n",
    "    #encontra no DataFrame o índice da coluna \"Anos de Estudo\" que possui a maior quantidade de registros\n",
    "    escolaridade_indigenas_homens = dados_indigenas_homens['Anos de Estudo'].value_counts().idxmax()\n",
    "    #busca valor da coluna \"Anos de Estudo\" no DataFrame \"escolaridade\"\n",
    "    descricao_escolaridade_homens = escolaridade['descricao'][escolaridade['codigo'] == escolaridade_indigenas_homens].max()\n",
    "    #imprime em tela o valor da coluna \"Anos de Estudo\" que possui a maior quantidade de registros\n",
    "    print(f'Maior escolaridade encontrada para indígenas homens: {descricao_escolaridade_homens}')"
   ]
  },
  {
   "cell_type": "markdown",
   "metadata": {},
   "source": [
    "Indígenas mulheres"
   ]
  },
  {
   "cell_type": "code",
   "execution_count": null,
   "metadata": {},
   "outputs": [],
   "source": [
    "#cria DataFrame com informações filtradas pelas colunas \"Cor\" e \"Sexo\" apontada\n",
    "dados_indigenas_mulheres = dados.query('Cor == 0 & Sexo == 1')\n",
    "\n",
    "#valida se o DataFrame é vazio\n",
    "if (dados_indigenas_mulheres.empty):\n",
    "    #imprime em tela que não há informações no DataFrame\n",
    "    print('Não há pessoas indígenas mulheres na base de dados.')\n",
    "else:\n",
    "    #encontra no DataFrame o índice da coluna \"Anos de Estudo\" que possui a maior quantidade de registros\n",
    "    escolaridade_indigenas_mulheres = dados_indigenas_mulheres['Anos de Estudo'].value_counts().idxmax()\n",
    "    #busca valor da coluna \"Anos de Estudo\" no DataFrame \"escolaridade\"\n",
    "    descricao_escolaridade_mulheres = escolaridade['descricao'][escolaridade['codigo'] == escolaridade_indigenas_mulheres].max()\n",
    "    #imprime em tela o valor da coluna \"Anos de Estudo\" que possui a maior quantidade de registros\n",
    "    print(f'Maior escolaridade encontrada para indígenas mulheres: {descricao_escolaridade_mulheres}')"
   ]
  },
  {
   "cell_type": "code",
   "execution_count": null,
   "metadata": {},
   "outputs": [],
   "source": [
    "if(escolaridade_indigenas_homens > escolaridade_indigenas_mulheres):\n",
    "    print(f'A maior escolaridade de indígenas homens ({descricao_escolaridade_homens}) é maior que a maior escolaridade de indígenas mulheres ({descricao_escolaridade_mulheres}).')\n",
    "elif(escolaridade_indigenas_homens < escolaridade_indigenas_mulheres):\n",
    "    print(f'A maior escolaridade de indígenas mulheres ({descricao_escolaridade_mulheres}) é maior que a maior escolaridade de indígenas homens ({descricao_escolaridade_homens}).')\n",
    "else:\n",
    "    print(f'A maior escolaridade de indígenas homens é igual a maior escolaridade de indígenas mulheres: {descricao_escolaridade_homens}.')"
   ]
  },
  {
   "cell_type": "markdown",
   "metadata": {},
   "source": [
    "8) Qual a média de anos de estudo entre brancos e negros?"
   ]
  },
  {
   "cell_type": "markdown",
   "metadata": {},
   "source": [
    "Brancos"
   ]
  },
  {
   "cell_type": "code",
   "execution_count": null,
   "metadata": {},
   "outputs": [],
   "source": [
    "#cria DataFrame com informações filtradas pela coluna \"Cor\" (2 - \"Branco\")\n",
    "dados_brancos = dados.query('Cor == 2')\n",
    "\n",
    "#valida se o DataFrame é vazio\n",
    "if (dados_brancos.empty):\n",
    "    #imprime em tela que não há informações no DataFrame\n",
    "    print('Não há pessoas brancas na base de dados.')\n",
    "else:\n",
    "    #encontra no DataFrame a média para a coluna \"Anos de Estudo\"\n",
    "    media_anos_de_estudo_brancos = dados_brancos['Anos de Estudo'].mean()\n",
    "    #busca valor da coluna \"Anos de Estudo\" no DataFrame \"escolaridade\"\n",
    "    descricao_escolaridade_brancos = escolaridade['descricao'][escolaridade['codigo'] == round(media_anos_de_estudo_brancos)].max()\n",
    "    #imprime em tela o valor da média para a coluna \"Anos de Estudo\"\n",
    "    print(f'A média de \"Anos de Estudo\" para brancos é: {descricao_escolaridade_brancos}.')"
   ]
  },
  {
   "cell_type": "markdown",
   "metadata": {},
   "source": [
    "Negros"
   ]
  },
  {
   "cell_type": "code",
   "execution_count": null,
   "metadata": {},
   "outputs": [],
   "source": [
    "#cria DataFrame com informações filtradas pela coluna \"Cor\" (2 - \"Preta\")\n",
    "dados_pretos = dados.query('Cor == 4')\n",
    "\n",
    "#valida se o DataFrame é vazio\n",
    "if (dados_pretos.empty):\n",
    "    #imprime em tela que não há informações no DataFrame\n",
    "    print('Não há pessoas brancas na base de dados.')\n",
    "else:\n",
    "    #encontra no DataFrame a média para a coluna \"Anos de Estudo\"\n",
    "    media_anos_de_estudo_pretos = dados_pretos['Anos de Estudo'].mean()\n",
    "    #busca valor da coluna \"Anos de Estudo\" no DataFrame \"escolaridade\"\n",
    "    descricao_escolaridade_pretos = escolaridade['descricao'][escolaridade['codigo'] == round(media_anos_de_estudo_pretos)].max()\n",
    "    #imprime em tela o valor da média para a coluna \"Anos de Estudo\"\n",
    "    print(f'A média de \"Anos de Estudo\" para brancos é: {descricao_escolaridade_pretos}.')"
   ]
  },
  {
   "cell_type": "markdown",
   "metadata": {},
   "source": [
    "9) Qual a média de anos de estudo e de renda para mulheres brancas, e para mulheres negras?"
   ]
  },
  {
   "cell_type": "markdown",
   "metadata": {},
   "source": [
    "Media de Estudo Mulheres Brancas"
   ]
  },
  {
   "cell_type": "code",
   "execution_count": null,
   "metadata": {},
   "outputs": [],
   "source": [
    "#cria DataFrame com informações filtradas pelas colunas \"Sexo\" (1 - Mulheres) e  \"Cor\" (2 - \"Branca\")\n",
    "dados_mulheres_brancas = dados.query('Sexo == 1 & Cor == 2')\n",
    "\n",
    "#valida se o DataFrame é vazio\n",
    "if (dados_mulheres_brancas.empty):\n",
    "    #imprime em tela que não há informações no DataFrame\n",
    "    print('Não há mulheres brancas na base de dados.')\n",
    "else:\n",
    "    #encontra no DataFrame a média para a coluna \"Anos de Estudo\"\n",
    "    media_anos_de_estudo_mulheres_brancas = dados_mulheres_brancas['Anos de Estudo'].mean()\n",
    "    #busca valor da coluna \"Anos de Estudo\" no DataFrame \"escolaridade\"\n",
    "    descricao_escolaridade_mulheres_brancas = escolaridade['descricao'][escolaridade['codigo'] == round(media_anos_de_estudo_mulheres_brancas)].max()\n",
    "    #imprime em tela o valor da média para a coluna \"Anos de Estudo\"\n",
    "    print(f'A média de \"Anos de Estudo\" para mulheres brancas é: {descricao_escolaridade_mulheres_brancas}.')        "
   ]
  },
  {
   "cell_type": "markdown",
   "metadata": {},
   "source": [
    "Media de Renda Mulheres Brancas"
   ]
  },
  {
   "cell_type": "code",
   "execution_count": null,
   "metadata": {},
   "outputs": [],
   "source": [
    "#valida se o DataFrame é vazio\n",
    "if (dados_mulheres_brancas.empty):\n",
    "    #imprime em tela que não há informações no DataFrame\n",
    "    print('Não há mulheres brancas na base de dados.')\n",
    "else:\n",
    "    #encontra no DataFrame a média para a coluna \"Renda\"\n",
    "    media_renda_mulheres_brancas = dados_mulheres_brancas['Renda'].mean()    \n",
    "    #imprime em tela o valor da média para a coluna \"Renda\"\n",
    "    print(f'A média de \"Renda\" para mulheres brancas é R$: {media_renda_mulheres_brancas:.2f}.')    "
   ]
  },
  {
   "cell_type": "markdown",
   "metadata": {},
   "source": [
    "Media de Estudo Mulheres Negras"
   ]
  },
  {
   "cell_type": "code",
   "execution_count": null,
   "metadata": {},
   "outputs": [],
   "source": [
    "#cria DataFrame com informações filtradas pelas colunas \"Sexo\" (1 - Mulheres) e  \"Cor\" (4 - \"Preta\")\n",
    "dados_mulheres_pretas = dados.query('Sexo == 1 & Cor == 4')\n",
    "\n",
    "#valida se o DataFrame é vazio\n",
    "if (dados_mulheres_pretas.empty):\n",
    "    #imprime em tela que não há informações no DataFrame\n",
    "    print('Não há mulheres pretas na base de dados.')\n",
    "else:\n",
    "    #encontra no DataFrame a média para a coluna \"Anos de Estudo\"\n",
    "    media_anos_de_estudo_mulheres_pretas = dados_mulheres_pretas['Anos de Estudo'].mean()\n",
    "    #busca valor da coluna \"Anos de Estudo\" no DataFrame \"escolaridade\"\n",
    "    descricao_escolaridade_mulheres_pretas = escolaridade['descricao'][escolaridade['codigo'] == round(media_anos_de_estudo_mulheres_pretas)].max()\n",
    "    #imprime em tela o valor da média para a coluna \"Anos de Estudo\"\n",
    "    print(f'A média de \"Anos de Estudo\" para mulheres negras é: {descricao_escolaridade_mulheres_pretas}.')        "
   ]
  },
  {
   "cell_type": "markdown",
   "metadata": {},
   "source": [
    "Media de Renda Mulheres Negras"
   ]
  },
  {
   "cell_type": "code",
   "execution_count": null,
   "metadata": {},
   "outputs": [],
   "source": [
    "#valida se o DataFrame é vazio\n",
    "if (dados_mulheres_pretas.empty):\n",
    "    #imprime em tela que não há informações no DataFrame\n",
    "    print('Não há mulheres pretas na base de dados.')\n",
    "else:\n",
    "    #encontra no DataFrame a média para a coluna \"Renda\"\n",
    "    media_renda_mulheres_pretas = dados_mulheres_pretas['Renda'].mean()    \n",
    "    #imprime em tela o valor da média para a coluna \"Renda\"\n",
    "    print(f'A média de \"Renda\" para mulheres pretas é R$: {media_renda_mulheres_pretas:.2f}.')  "
   ]
  },
  {
   "cell_type": "markdown",
   "metadata": {},
   "source": [
    "10) Qual é a UF com maior média de escolaridade e qual a UF com maior média de renda?"
   ]
  },
  {
   "cell_type": "markdown",
   "metadata": {},
   "source": [
    "UF com maior média de escolaridade"
   ]
  },
  {
   "cell_type": "code",
   "execution_count": null,
   "metadata": {},
   "outputs": [],
   "source": [
    "#cria DataFrame com informações de média da coluna \"Escolaridade\" agrupadas pela coluna \"UF\"\n",
    "maior_media_anos_de_estudo_por_ufs = dados.groupby('UF')['Anos de Estudo'].mean().max()\n",
    "uf_maior_media_ano_de_estudo = dados.groupby('UF')['Anos de Estudo'].mean().idxmax()\n",
    "\n",
    "#busca valor da coluna \"Anos de Estudo\" no DataFrame \"escolaridade\"\n",
    "descricao_maior_escolaridade = escolaridade['descricao'][escolaridade['codigo'] == round(maior_media_anos_de_estudo_por_ufs)].max()\n",
    "\n",
    "#busca valor da coluna \"UF\" no DataFrame \"ufs\"\n",
    "descricao_uf = ufs['descricao'][ufs['codigo'] == uf_maior_media_ano_de_estudo].max()\n",
    "\n",
    "#imprime informações na tela\n",
    "print(f'A UF \"{descricao_uf}\" possui a maior média de escolaridade: {descricao_maior_escolaridade}.')"
   ]
  },
  {
   "cell_type": "markdown",
   "metadata": {},
   "source": [
    "UF com maior média de renda"
   ]
  },
  {
   "cell_type": "code",
   "execution_count": null,
   "metadata": {},
   "outputs": [],
   "source": [
    "#cria DataFrame com informações de média da coluna \"Renda\" agrupadas pela coluna \"UF\"\n",
    "maior_media_renda_por_ufs = dados.groupby('UF')['Renda'].mean().max()\n",
    "uf_maior_media_renda = dados.groupby('UF')['Renda'].mean().idxmax()\n",
    "\n",
    "#busca valor da coluna \"UF\" no DataFrame \"ufs\"\n",
    "descricao_uf = ufs['descricao'][ufs['codigo'] == uf_maior_media_renda].max()\n",
    "\n",
    "#imprime informações na tela\n",
    "print(f'A UF \"{descricao_uf}\" possui a maior média de renda: R$ {maior_media_renda_por_ufs:.2f}.')"
   ]
  },
  {
   "cell_type": "markdown",
   "metadata": {},
   "source": [
    "11) Elabore você uma pergunta sobre a base de dados e escreva o código para responder a pergunta."
   ]
  },
  {
   "cell_type": "markdown",
   "metadata": {},
   "source": [
    "Dentre pessoas negras, qual região do país detém a maior média de renda para este grupo?"
   ]
  },
  {
   "cell_type": "code",
   "execution_count": null,
   "metadata": {},
   "outputs": [],
   "source": [
    "#filtro para classificação das UFs por região\n",
    "filtro = {'Norte': 'UF <= 20', 'Nordeste': 'UF > 20 & UF <= 30', 'Sudeste': '(UF > 30 & UF <= 40)', 'Sul': 'UF > 40 & UF < 50', 'Centro Oeste': 'UF >= 50'}\n",
    "\n",
    "#dicionário onde será armazenado as médias de renda por região\n",
    "dados_pessoas_negras_regiao = {}\n",
    "\n",
    "#cria DataFrame filtrando pela coluna \"Cor\" (4 - Preta)\n",
    "dados_pessoas_negras = dados.query('Cor == 4')\n",
    "\n",
    "#Processa o dicionário filtro selecionando chave e valor a cada iteração\n",
    "for idx, value in filtro.items():\n",
    "    #atribui a cada posição do dicionário a região e sua média de \"Renda\"    \n",
    "    dados_pessoas_negras_regiao.setdefault(idx, dados_pessoas_negras.query(filtro[idx])['Renda'].mean().round(2))\n",
    "    \n",
    "media_renda_regiao_maior_media = dados_pessoas_negras_regiao[max(dados_pessoas_negras_regiao, key=dados_pessoas_negras_regiao.get)]\n",
    "nome_regiao_maior_media_renda = max(dados_pessoas_negras_regiao, key=dados_pessoas_negras_regiao.get)\n",
    "\n",
    "#imprime em tela a região com maior média encontrada no dicionário de médias de renda por região\n",
    "print(f'A região \"{nome_regiao_maior_media_renda}\" do país é a região onde as pessoas de raça negra possuem \\n'\n",
    "      f'a maior média de renda se comparado para o mesmo grupo: renda média de R$ {media_renda_regiao_maior_media:.2f}')"
   ]
  },
  {
   "cell_type": "markdown",
   "metadata": {},
   "source": [
    "Há algum estado que influencia nesta média?"
   ]
  },
  {
   "cell_type": "code",
   "execution_count": null,
   "metadata": {},
   "outputs": [],
   "source": [
    "#encontra no dicionário \"filtro\" a região com maior média da coluna \"Renda\"\n",
    "filtro_regiao_maior_media = filtro.get(max(dados_pessoas_negras_regiao, key=dados_pessoas_negras_regiao.get), 0)\n",
    "\n",
    "#cria DataFrame com médias da coluna \"Renda\" para cada \"UF\"\n",
    "dados_pessoas_negras_regiao_maior_media = dados_pessoas_negras.query(filtro_regiao_maior_media)\n",
    "media_pessoas_negras_regiao_maior_media = dados_pessoas_negras_regiao_maior_media.groupby('UF')['Renda'].mean()\n",
    "\n",
    "#imprime a região de maior média da coluna \"Renda\" e as médias de \"Renda\" para cada \"UF\"\n",
    "print(f'Média de renda dos Estados da região \"{max(dados_pessoas_negras_regiao, key=dados_pessoas_negras_regiao.get)}\": \\n {media_pessoas_negras_regiao_maior_media.iloc[:]}\\n')\n",
    "\n",
    "#aponta o estado com maior média de da coluna \"Renda\"\n",
    "estado_maior_media_renda_regiao = media_pessoas_negras_regiao_maior_media.idxmax()\n",
    "\n",
    "#cria filtro para busca retirando o estado com maior média da coluna \"Renda\" na região\n",
    "novo_filtro = 'UF != ' + str(estado_maior_media_renda_regiao)\n",
    "\n",
    "#recupera o nome do estado com maior média da coluna \"Renda\" na região\n",
    "nome_estado_maior_media_renda_regiao = ufs['descricao'][ufs['codigo'] == estado_maior_media_renda_regiao].max()\n",
    "\n",
    "#encontra média da região sem o estado com maior média da coluna \"Renda\"\n",
    "media_renda_regiao_sem_estado_maior_media = dados_pessoas_negras_regiao_maior_media.query(novo_filtro)['Renda'].mean()\n",
    "\n",
    "#imprime em tela informações do estado com maior média da coluna \"Renda\", média da coluna \"Renda\" sem este estado\n",
    "print(f'Retirando a média de \"Renda\" do estado \"{nome_estado_maior_media_renda_regiao}\", maior média de \"Renda\" nesta região, \\n'\n",
    "      f'a média de \"Renda\" da região fica em R$ {media_renda_regiao_sem_estado_maior_media:.2f}.\\n')\n",
    "\n",
    "#calcula percentual da média de \"Renda\" da região sem o estado de maior média em relação a mesma média contendo o referido estado\n",
    "percentual_queda_media_sem_estado_maior_media = (media_renda_regiao_sem_estado_maior_media * 100) / media_renda_regiao_maior_media\n",
    "\n",
    "#imprime informações acerca da média e do percentual encontrados\n",
    "print(f'A média de \"Renda\" da região \"{nome_regiao_maior_media_renda}\" sem o estado \\n'\n",
    "      f'\"{nome_estado_maior_media_renda_regiao}\" corresponde há {percentual_queda_media_sem_estado_maior_media:.2f}% '\n",
    "      f'da média de \"Renda\" contendo este estado.')\n",
    "\n",
    "percentual = 10\n",
    "\n",
    "#Verifica a diferença em percentual da média da coluna \"Renda\" da região com e sem o estado de maior média da coluna \"Renda\"\n",
    "if(100 - percentual_queda_media_sem_estado_maior_media) > percentual:\n",
    "    print('\\nDesta forma, pode-se diser de que o referido estado influencia diretamente na média de \"Renda\" da região.')\n",
    "else:\n",
    "    print('\\nDesta forma, pode-se diser de que o referido estado não influencia significamente na média de \"Renda\" da região.')"
   ]
  }
 ],
 "metadata": {
  "kernelspec": {
   "display_name": "Python 3",
   "language": "python",
   "name": "python3"
  },
  "language_info": {
   "codemirror_mode": {
    "name": "ipython",
    "version": 3
   },
   "file_extension": ".py",
   "mimetype": "text/x-python",
   "name": "python",
   "nbconvert_exporter": "python",
   "pygments_lexer": "ipython3",
   "version": "3.11.2"
  },
  "orig_nbformat": 4
 },
 "nbformat": 4,
 "nbformat_minor": 2
}
