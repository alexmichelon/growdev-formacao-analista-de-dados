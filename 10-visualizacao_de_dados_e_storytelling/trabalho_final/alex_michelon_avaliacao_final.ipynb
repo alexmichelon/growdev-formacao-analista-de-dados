{
 "cells": [
  {
   "cell_type": "code",
   "execution_count": 3,
   "metadata": {},
   "outputs": [],
   "source": [
    "import pandas as pd\n",
    "import plotly.express as px\n",
    "import plotly.graph_objects as go\n",
    "from plotly.subplots import make_subplots"
   ]
  },
  {
   "cell_type": "code",
   "execution_count": 4,
   "metadata": {},
   "outputs": [
    {
     "name": "stderr",
     "output_type": "stream",
     "text": [
      "C:\\Users\\Alex\\AppData\\Local\\Temp\\ipykernel_9280\\138878040.py:1: DtypeWarning: Columns (27) have mixed types. Specify dtype option on import or set low_memory=False.\n",
      "  df = pd.read_csv('microdados_ed_basica_2021.csv', encoding='latin-1', sep=';')\n"
     ]
    }
   ],
   "source": [
    "df = pd.read_csv('microdados_ed_basica_2021.csv', encoding='latin-1', sep=';')"
   ]
  },
  {
   "cell_type": "code",
   "execution_count": 5,
   "metadata": {},
   "outputs": [],
   "source": [
    "#criando DataFrame com dados do estado do Rio Grande do Sul e onde há um tipo de localização diferenciada\n",
    "df_rs_localizacao_diferenciada = df.query('SG_UF == \"RS\" and TP_LOCALIZACAO_DIFERENCIADA != 0')\n",
    "\n",
    "#df_rs_localizacao_diferenciada = df_rs_localizacao_diferenciada[['TP_LOCALIZACAO_DIFERENCIADA', 'TP_LOCALIZACAO', 'QT_MAT_BAS', 'QT_DOC_BAS', 'QT_TUR_BAS', 'NO_MUNICIPIO']].groupby(by='NO_MUNICIPIO').sum().reset_index()\n",
    "df_rs_localizacao_diferenciada = df_rs_localizacao_diferenciada[['TP_LOCALIZACAO_DIFERENCIADA', 'TP_LOCALIZACAO', 'QT_MAT_BAS', 'QT_DOC_BAS', 'QT_TUR_BAS']]\n",
    "\n",
    "#criando o DataFrame para o tipo de localização \"urbana\"\n",
    "df_rs_localizacao_diferenciada_urbana = df_rs_localizacao_diferenciada.query('TP_LOCALIZACAO == 1')\n",
    "#criando o DataFrame para o tipo de localização \"rural\"\n",
    "df_rs_localizacao_diferenciada_rural = df_rs_localizacao_diferenciada.query('TP_LOCALIZACAO == 2')"
   ]
  },
  {
   "cell_type": "code",
   "execution_count": 11,
   "metadata": {},
   "outputs": [
    {
     "data": {
      "application/vnd.plotly.v1+json": {
       "config": {
        "plotlyServerURL": "https://plot.ly"
       },
       "data": [
        {
         "marker": {
          "color": [
           1,
           2,
           2,
           3,
           1,
           3,
           2,
           2,
           2,
           2,
           2,
           2,
           2,
           1,
           1,
           2,
           2,
           2,
           2,
           2,
           1,
           1,
           1,
           1,
           3,
           3,
           3,
           3,
           3,
           3,
           3,
           3,
           3,
           3,
           3,
           3,
           3,
           3,
           3,
           3,
           3,
           3,
           3,
           1,
           1,
           1,
           1,
           2,
           2,
           2,
           3,
           2,
           2,
           2,
           1,
           1,
           1,
           1,
           1,
           1,
           1,
           1,
           2,
           2,
           2,
           1,
           1,
           1,
           1,
           2,
           2,
           2,
           2,
           2,
           3,
           3,
           1,
           3,
           2,
           2,
           3,
           3,
           2,
           1,
           1,
           1,
           2,
           2,
           2,
           2,
           3,
           1,
           1,
           1,
           1,
           3,
           2,
           2,
           1,
           2,
           3,
           3,
           3,
           3,
           3,
           2,
           2,
           1,
           2,
           3,
           2,
           2,
           2,
           3,
           1,
           1,
           1,
           2,
           3,
           1,
           1,
           1,
           1,
           3,
           3,
           3,
           3,
           3,
           3,
           1,
           1,
           1,
           3,
           1,
           3,
           1,
           1,
           2,
           2,
           2,
           2,
           2,
           1,
           1,
           1,
           3,
           2,
           2,
           2,
           2,
           2,
           2,
           2,
           2,
           2,
           3,
           2,
           2,
           1,
           2,
           1,
           2,
           1,
           1,
           2,
           2,
           2,
           2,
           3,
           1,
           1,
           1,
           1,
           1,
           3,
           3,
           3,
           3,
           2,
           2,
           2,
           1,
           2,
           2,
           2,
           2,
           3,
           2,
           1,
           1,
           1,
           1,
           3,
           2,
           1,
           2,
           2,
           2
          ],
          "line": {
           "color": "Black",
           "width": 1
          },
          "opacity": 0.75,
          "size": [
           4,
           7,
           5,
           11,
           7,
           8,
           4,
           4,
           2,
           3,
           7,
           15,
           1,
           4,
           2,
           1,
           2,
           9,
           2,
           3,
           10,
           11,
           6,
           3,
           13,
           10,
           12,
           10,
           11,
           10,
           9,
           10,
           10,
           11,
           10,
           12,
           9,
           9,
           11,
           9,
           15,
           10,
           10,
           7,
           6,
           5,
           5,
           1,
           3,
           20,
           10,
           2,
           5,
           1,
           4,
           4,
           6,
           4,
           1,
           11,
           4,
           11,
           3,
           1,
           8,
           5,
           6,
           9,
           8,
           6,
           4,
           1,
           2,
           4,
           7,
           7,
           4,
           5,
           5,
           9,
           8,
           6,
           2,
           13,
           10,
           5,
           7,
           15,
           5,
           4,
           3,
           8,
           4,
           13,
           4,
           15,
           2,
           10,
           9,
           1,
           3,
           10,
           3,
           8,
           6,
           1,
           3,
           3,
           3,
           2,
           6,
           12,
           1,
           4,
           7,
           4,
           16,
           3,
           10,
           2,
           11,
           11,
           10,
           11,
           15,
           4,
           26,
           10,
           2,
           2,
           3,
           10,
           6,
           1,
           12,
           1,
           4,
           11,
           2,
           3,
           7,
           2,
           2,
           8,
           6,
           7,
           21,
           13,
           10,
           10,
           9,
           3,
           4,
           2,
           7,
           7,
           5,
           2,
           12,
           13,
           3,
           3,
           8,
           2,
           7,
           6,
           5,
           7,
           5,
           9,
           11,
           3,
           12,
           4,
           7,
           13,
           15,
           13,
           6,
           11,
           18,
           3,
           1,
           11,
           11,
           15,
           11,
           10,
           11,
           10,
           11,
           3,
           8,
           7,
           11,
           4,
           9,
           7
          ],
          "sizemin": 4,
          "sizemode": "area",
          "sizeref": 0.057777777777777775
         },
         "mode": "markers",
         "type": "scatter",
         "x": [
          32,
          112,
          45,
          126,
          64,
          65,
          16,
          34,
          33,
          29,
          85,
          240,
          2,
          31,
          12,
          8,
          12,
          141,
          25,
          46,
          150,
          270,
          73,
          35,
          235,
          131,
          116,
          116,
          187,
          94,
          70,
          57,
          131,
          142,
          114,
          206,
          101,
          69,
          120,
          104,
          169,
          138,
          120,
          62,
          62,
          32,
          6,
          3,
          34,
          337,
          106,
          21,
          76,
          2,
          29,
          23,
          45,
          42,
          12,
          242,
          38,
          132,
          49,
          15,
          56,
          51,
          39,
          98,
          58,
          49,
          49,
          6,
          11,
          57,
          58,
          65,
          48,
          44,
          35,
          149,
          86,
          90,
          18,
          105,
          158,
          64,
          115,
          254,
          36,
          74,
          21,
          67,
          38,
          201,
          22,
          206,
          30,
          112,
          83,
          3,
          53,
          123,
          25,
          128,
          55,
          8,
          34,
          29,
          20,
          23,
          79,
          174,
          8,
          25,
          78,
          87,
          350,
          15,
          190,
          25,
          31,
          81,
          36,
          157,
          219,
          32,
          333,
          111,
          16,
          12,
          21,
          128,
          126,
          14,
          186,
          7,
          30,
          184,
          9,
          6,
          82,
          22,
          10,
          69,
          88,
          171,
          407,
          237,
          129,
          141,
          130,
          31,
          56,
          19,
          85,
          100,
          40,
          10,
          179,
          180,
          21,
          30,
          105,
          14,
          50,
          61,
          22,
          57,
          19,
          76,
          85,
          35,
          153,
          52,
          92,
          248,
          254,
          218,
          65,
          149,
          334,
          33,
          7,
          137,
          167,
          198,
          87,
          111,
          74,
          53,
          65,
          21,
          90,
          48,
          277,
          35,
          54,
          86
         ],
         "xaxis": "x",
         "y": [
          6,
          11,
          6,
          13,
          11,
          9,
          5,
          4,
          3,
          4,
          7,
          12,
          2,
          6,
          1,
          1,
          1,
          9,
          2,
          4,
          11,
          9,
          5,
          4,
          15,
          13,
          12,
          11,
          14,
          12,
          10,
          9,
          12,
          12,
          13,
          12,
          9,
          13,
          11,
          9,
          13,
          12,
          13,
          9,
          7,
          5,
          2,
          1,
          2,
          18,
          11,
          1,
          11,
          1,
          8,
          4,
          3,
          3,
          1,
          15,
          2,
          18,
          4,
          1,
          7,
          9,
          11,
          13,
          12,
          7,
          5,
          1,
          1,
          3,
          3,
          6,
          6,
          10,
          6,
          10,
          7,
          7,
          3,
          16,
          11,
          6,
          7,
          14,
          8,
          4,
          3,
          12,
          7,
          14,
          6,
          14,
          3,
          12,
          9,
          2,
          2,
          13,
          5,
          14,
          5,
          2,
          3,
          3,
          3,
          4,
          4,
          11,
          1,
          3,
          5,
          7,
          15,
          2,
          11,
          5,
          10,
          11,
          9,
          17,
          25,
          6,
          37,
          16,
          3,
          4,
          5,
          14,
          17,
          2,
          22,
          1,
          4,
          13,
          3,
          2,
          7,
          2,
          1,
          9,
          12,
          11,
          24,
          15,
          13,
          13,
          11,
          4,
          10,
          1,
          10,
          16,
          10,
          1,
          19,
          15,
          6,
          3,
          13,
          4,
          8,
          5,
          7,
          10,
          1,
          14,
          18,
          4,
          10,
          8,
          16,
          20,
          21,
          19,
          7,
          17,
          12,
          5,
          1,
          9,
          10,
          16,
          12,
          12,
          10,
          9,
          11,
          2,
          12,
          12,
          13,
          7,
          10,
          7
         ],
         "yaxis": "y"
        },
        {
         "marker": {
          "color": [
           3,
           2,
           3,
           3,
           3,
           3,
           2,
           3,
           2,
           2,
           2,
           3,
           2,
           2,
           2,
           3
          ],
          "line": {
           "color": "Black",
           "width": 1
          },
          "opacity": 0.75,
          "size": [
           19,
           1,
           9,
           4,
           4,
           15,
           3,
           2,
           2,
           3,
           2,
           10,
           13,
           4,
           2,
           0
          ],
          "sizemin": 4,
          "sizemode": "area",
          "sizeref": 0.057777777777777775
         },
         "mode": "markers",
         "type": "scatter",
         "x": [
          285,
          11,
          173,
          36,
          36,
          299,
          17,
          31,
          20,
          9,
          4,
          226,
          58,
          38,
          13,
          0
         ],
         "xaxis": "x2",
         "y": [
          20,
          1,
          14,
          11,
          6,
          17,
          2,
          5,
          3,
          1,
          2,
          18,
          14,
          2,
          2,
          0
         ],
         "yaxis": "y2"
        }
       ],
       "layout": {
        "annotations": [
         {
          "font": {
           "size": 16
          },
          "showarrow": false,
          "text": "Localização <b>RURAL</b>",
          "x": 0.225,
          "xanchor": "center",
          "xref": "paper",
          "y": 1,
          "yanchor": "bottom",
          "yref": "paper"
         },
         {
          "font": {
           "size": 16
          },
          "showarrow": false,
          "text": "Localização <b>URBANA</b>",
          "x": 0.775,
          "xanchor": "center",
          "xref": "paper",
          "y": 1,
          "yanchor": "bottom",
          "yref": "paper"
         }
        ],
        "height": 600,
        "legend": {
         "entrywidth": 70,
         "orientation": "h",
         "title": {
          "text": "<b>Localização Diferenciada</b>"
         },
         "x": 0.5,
         "xanchor": "right",
         "y": -0.2,
         "yanchor": "bottom"
        },
        "template": {
         "data": {
          "bar": [
           {
            "error_x": {
             "color": "#2a3f5f"
            },
            "error_y": {
             "color": "#2a3f5f"
            },
            "marker": {
             "line": {
              "color": "#E5ECF6",
              "width": 0.5
             },
             "pattern": {
              "fillmode": "overlay",
              "size": 10,
              "solidity": 0.2
             }
            },
            "type": "bar"
           }
          ],
          "barpolar": [
           {
            "marker": {
             "line": {
              "color": "#E5ECF6",
              "width": 0.5
             },
             "pattern": {
              "fillmode": "overlay",
              "size": 10,
              "solidity": 0.2
             }
            },
            "type": "barpolar"
           }
          ],
          "carpet": [
           {
            "aaxis": {
             "endlinecolor": "#2a3f5f",
             "gridcolor": "white",
             "linecolor": "white",
             "minorgridcolor": "white",
             "startlinecolor": "#2a3f5f"
            },
            "baxis": {
             "endlinecolor": "#2a3f5f",
             "gridcolor": "white",
             "linecolor": "white",
             "minorgridcolor": "white",
             "startlinecolor": "#2a3f5f"
            },
            "type": "carpet"
           }
          ],
          "choropleth": [
           {
            "colorbar": {
             "outlinewidth": 0,
             "ticks": ""
            },
            "type": "choropleth"
           }
          ],
          "contour": [
           {
            "colorbar": {
             "outlinewidth": 0,
             "ticks": ""
            },
            "colorscale": [
             [
              0,
              "#0d0887"
             ],
             [
              0.1111111111111111,
              "#46039f"
             ],
             [
              0.2222222222222222,
              "#7201a8"
             ],
             [
              0.3333333333333333,
              "#9c179e"
             ],
             [
              0.4444444444444444,
              "#bd3786"
             ],
             [
              0.5555555555555556,
              "#d8576b"
             ],
             [
              0.6666666666666666,
              "#ed7953"
             ],
             [
              0.7777777777777778,
              "#fb9f3a"
             ],
             [
              0.8888888888888888,
              "#fdca26"
             ],
             [
              1,
              "#f0f921"
             ]
            ],
            "type": "contour"
           }
          ],
          "contourcarpet": [
           {
            "colorbar": {
             "outlinewidth": 0,
             "ticks": ""
            },
            "type": "contourcarpet"
           }
          ],
          "heatmap": [
           {
            "colorbar": {
             "outlinewidth": 0,
             "ticks": ""
            },
            "colorscale": [
             [
              0,
              "#0d0887"
             ],
             [
              0.1111111111111111,
              "#46039f"
             ],
             [
              0.2222222222222222,
              "#7201a8"
             ],
             [
              0.3333333333333333,
              "#9c179e"
             ],
             [
              0.4444444444444444,
              "#bd3786"
             ],
             [
              0.5555555555555556,
              "#d8576b"
             ],
             [
              0.6666666666666666,
              "#ed7953"
             ],
             [
              0.7777777777777778,
              "#fb9f3a"
             ],
             [
              0.8888888888888888,
              "#fdca26"
             ],
             [
              1,
              "#f0f921"
             ]
            ],
            "type": "heatmap"
           }
          ],
          "heatmapgl": [
           {
            "colorbar": {
             "outlinewidth": 0,
             "ticks": ""
            },
            "colorscale": [
             [
              0,
              "#0d0887"
             ],
             [
              0.1111111111111111,
              "#46039f"
             ],
             [
              0.2222222222222222,
              "#7201a8"
             ],
             [
              0.3333333333333333,
              "#9c179e"
             ],
             [
              0.4444444444444444,
              "#bd3786"
             ],
             [
              0.5555555555555556,
              "#d8576b"
             ],
             [
              0.6666666666666666,
              "#ed7953"
             ],
             [
              0.7777777777777778,
              "#fb9f3a"
             ],
             [
              0.8888888888888888,
              "#fdca26"
             ],
             [
              1,
              "#f0f921"
             ]
            ],
            "type": "heatmapgl"
           }
          ],
          "histogram": [
           {
            "marker": {
             "pattern": {
              "fillmode": "overlay",
              "size": 10,
              "solidity": 0.2
             }
            },
            "type": "histogram"
           }
          ],
          "histogram2d": [
           {
            "colorbar": {
             "outlinewidth": 0,
             "ticks": ""
            },
            "colorscale": [
             [
              0,
              "#0d0887"
             ],
             [
              0.1111111111111111,
              "#46039f"
             ],
             [
              0.2222222222222222,
              "#7201a8"
             ],
             [
              0.3333333333333333,
              "#9c179e"
             ],
             [
              0.4444444444444444,
              "#bd3786"
             ],
             [
              0.5555555555555556,
              "#d8576b"
             ],
             [
              0.6666666666666666,
              "#ed7953"
             ],
             [
              0.7777777777777778,
              "#fb9f3a"
             ],
             [
              0.8888888888888888,
              "#fdca26"
             ],
             [
              1,
              "#f0f921"
             ]
            ],
            "type": "histogram2d"
           }
          ],
          "histogram2dcontour": [
           {
            "colorbar": {
             "outlinewidth": 0,
             "ticks": ""
            },
            "colorscale": [
             [
              0,
              "#0d0887"
             ],
             [
              0.1111111111111111,
              "#46039f"
             ],
             [
              0.2222222222222222,
              "#7201a8"
             ],
             [
              0.3333333333333333,
              "#9c179e"
             ],
             [
              0.4444444444444444,
              "#bd3786"
             ],
             [
              0.5555555555555556,
              "#d8576b"
             ],
             [
              0.6666666666666666,
              "#ed7953"
             ],
             [
              0.7777777777777778,
              "#fb9f3a"
             ],
             [
              0.8888888888888888,
              "#fdca26"
             ],
             [
              1,
              "#f0f921"
             ]
            ],
            "type": "histogram2dcontour"
           }
          ],
          "mesh3d": [
           {
            "colorbar": {
             "outlinewidth": 0,
             "ticks": ""
            },
            "type": "mesh3d"
           }
          ],
          "parcoords": [
           {
            "line": {
             "colorbar": {
              "outlinewidth": 0,
              "ticks": ""
             }
            },
            "type": "parcoords"
           }
          ],
          "pie": [
           {
            "automargin": true,
            "type": "pie"
           }
          ],
          "scatter": [
           {
            "fillpattern": {
             "fillmode": "overlay",
             "size": 10,
             "solidity": 0.2
            },
            "type": "scatter"
           }
          ],
          "scatter3d": [
           {
            "line": {
             "colorbar": {
              "outlinewidth": 0,
              "ticks": ""
             }
            },
            "marker": {
             "colorbar": {
              "outlinewidth": 0,
              "ticks": ""
             }
            },
            "type": "scatter3d"
           }
          ],
          "scattercarpet": [
           {
            "marker": {
             "colorbar": {
              "outlinewidth": 0,
              "ticks": ""
             }
            },
            "type": "scattercarpet"
           }
          ],
          "scattergeo": [
           {
            "marker": {
             "colorbar": {
              "outlinewidth": 0,
              "ticks": ""
             }
            },
            "type": "scattergeo"
           }
          ],
          "scattergl": [
           {
            "marker": {
             "colorbar": {
              "outlinewidth": 0,
              "ticks": ""
             }
            },
            "type": "scattergl"
           }
          ],
          "scattermapbox": [
           {
            "marker": {
             "colorbar": {
              "outlinewidth": 0,
              "ticks": ""
             }
            },
            "type": "scattermapbox"
           }
          ],
          "scatterpolar": [
           {
            "marker": {
             "colorbar": {
              "outlinewidth": 0,
              "ticks": ""
             }
            },
            "type": "scatterpolar"
           }
          ],
          "scatterpolargl": [
           {
            "marker": {
             "colorbar": {
              "outlinewidth": 0,
              "ticks": ""
             }
            },
            "type": "scatterpolargl"
           }
          ],
          "scatterternary": [
           {
            "marker": {
             "colorbar": {
              "outlinewidth": 0,
              "ticks": ""
             }
            },
            "type": "scatterternary"
           }
          ],
          "surface": [
           {
            "colorbar": {
             "outlinewidth": 0,
             "ticks": ""
            },
            "colorscale": [
             [
              0,
              "#0d0887"
             ],
             [
              0.1111111111111111,
              "#46039f"
             ],
             [
              0.2222222222222222,
              "#7201a8"
             ],
             [
              0.3333333333333333,
              "#9c179e"
             ],
             [
              0.4444444444444444,
              "#bd3786"
             ],
             [
              0.5555555555555556,
              "#d8576b"
             ],
             [
              0.6666666666666666,
              "#ed7953"
             ],
             [
              0.7777777777777778,
              "#fb9f3a"
             ],
             [
              0.8888888888888888,
              "#fdca26"
             ],
             [
              1,
              "#f0f921"
             ]
            ],
            "type": "surface"
           }
          ],
          "table": [
           {
            "cells": {
             "fill": {
              "color": "#EBF0F8"
             },
             "line": {
              "color": "white"
             }
            },
            "header": {
             "fill": {
              "color": "#C8D4E3"
             },
             "line": {
              "color": "white"
             }
            },
            "type": "table"
           }
          ]
         },
         "layout": {
          "annotationdefaults": {
           "arrowcolor": "#2a3f5f",
           "arrowhead": 0,
           "arrowwidth": 1
          },
          "autotypenumbers": "strict",
          "coloraxis": {
           "colorbar": {
            "outlinewidth": 0,
            "ticks": ""
           }
          },
          "colorscale": {
           "diverging": [
            [
             0,
             "#8e0152"
            ],
            [
             0.1,
             "#c51b7d"
            ],
            [
             0.2,
             "#de77ae"
            ],
            [
             0.3,
             "#f1b6da"
            ],
            [
             0.4,
             "#fde0ef"
            ],
            [
             0.5,
             "#f7f7f7"
            ],
            [
             0.6,
             "#e6f5d0"
            ],
            [
             0.7,
             "#b8e186"
            ],
            [
             0.8,
             "#7fbc41"
            ],
            [
             0.9,
             "#4d9221"
            ],
            [
             1,
             "#276419"
            ]
           ],
           "sequential": [
            [
             0,
             "#0d0887"
            ],
            [
             0.1111111111111111,
             "#46039f"
            ],
            [
             0.2222222222222222,
             "#7201a8"
            ],
            [
             0.3333333333333333,
             "#9c179e"
            ],
            [
             0.4444444444444444,
             "#bd3786"
            ],
            [
             0.5555555555555556,
             "#d8576b"
            ],
            [
             0.6666666666666666,
             "#ed7953"
            ],
            [
             0.7777777777777778,
             "#fb9f3a"
            ],
            [
             0.8888888888888888,
             "#fdca26"
            ],
            [
             1,
             "#f0f921"
            ]
           ],
           "sequentialminus": [
            [
             0,
             "#0d0887"
            ],
            [
             0.1111111111111111,
             "#46039f"
            ],
            [
             0.2222222222222222,
             "#7201a8"
            ],
            [
             0.3333333333333333,
             "#9c179e"
            ],
            [
             0.4444444444444444,
             "#bd3786"
            ],
            [
             0.5555555555555556,
             "#d8576b"
            ],
            [
             0.6666666666666666,
             "#ed7953"
            ],
            [
             0.7777777777777778,
             "#fb9f3a"
            ],
            [
             0.8888888888888888,
             "#fdca26"
            ],
            [
             1,
             "#f0f921"
            ]
           ]
          },
          "colorway": [
           "#636efa",
           "#EF553B",
           "#00cc96",
           "#ab63fa",
           "#FFA15A",
           "#19d3f3",
           "#FF6692",
           "#B6E880",
           "#FF97FF",
           "#FECB52"
          ],
          "font": {
           "color": "#2a3f5f"
          },
          "geo": {
           "bgcolor": "white",
           "lakecolor": "white",
           "landcolor": "#E5ECF6",
           "showlakes": true,
           "showland": true,
           "subunitcolor": "white"
          },
          "hoverlabel": {
           "align": "left"
          },
          "hovermode": "closest",
          "mapbox": {
           "style": "light"
          },
          "paper_bgcolor": "white",
          "plot_bgcolor": "#E5ECF6",
          "polar": {
           "angularaxis": {
            "gridcolor": "white",
            "linecolor": "white",
            "ticks": ""
           },
           "bgcolor": "#E5ECF6",
           "radialaxis": {
            "gridcolor": "white",
            "linecolor": "white",
            "ticks": ""
           }
          },
          "scene": {
           "xaxis": {
            "backgroundcolor": "#E5ECF6",
            "gridcolor": "white",
            "gridwidth": 2,
            "linecolor": "white",
            "showbackground": true,
            "ticks": "",
            "zerolinecolor": "white"
           },
           "yaxis": {
            "backgroundcolor": "#E5ECF6",
            "gridcolor": "white",
            "gridwidth": 2,
            "linecolor": "white",
            "showbackground": true,
            "ticks": "",
            "zerolinecolor": "white"
           },
           "zaxis": {
            "backgroundcolor": "#E5ECF6",
            "gridcolor": "white",
            "gridwidth": 2,
            "linecolor": "white",
            "showbackground": true,
            "ticks": "",
            "zerolinecolor": "white"
           }
          },
          "shapedefaults": {
           "line": {
            "color": "#2a3f5f"
           }
          },
          "ternary": {
           "aaxis": {
            "gridcolor": "white",
            "linecolor": "white",
            "ticks": ""
           },
           "baxis": {
            "gridcolor": "white",
            "linecolor": "white",
            "ticks": ""
           },
           "bgcolor": "#E5ECF6",
           "caxis": {
            "gridcolor": "white",
            "linecolor": "white",
            "ticks": ""
           }
          },
          "title": {
           "x": 0.05
          },
          "xaxis": {
           "automargin": true,
           "gridcolor": "white",
           "linecolor": "white",
           "ticks": "",
           "title": {
            "standoff": 15
           },
           "zerolinecolor": "white",
           "zerolinewidth": 2
          },
          "yaxis": {
           "automargin": true,
           "gridcolor": "white",
           "linecolor": "white",
           "ticks": "",
           "title": {
            "standoff": 15
           },
           "zerolinecolor": "white",
           "zerolinewidth": 2
          }
         }
        },
        "title": {
         "font": {
          "size": 14
         },
         "text": "<b>Censo Escolar 2021: Análise de Localização Diferenciada (RS)</b>",
         "x": 0.5
        },
        "width": 1200,
        "xaxis": {
         "anchor": "y",
         "domain": [
          0,
          0.45
         ],
         "range": [
          0,
          500
         ],
         "title": {
          "font": {
           "size": 11
          },
          "text": "<b>Quantidade de Matrículas</b>"
         }
        },
        "xaxis2": {
         "anchor": "y2",
         "domain": [
          0.55,
          1
         ],
         "range": [
          0,
          500
         ],
         "title": {
          "font": {
           "size": 11
          },
          "text": "<b>Quantidade de Matrículas</b>"
         }
        },
        "yaxis": {
         "anchor": "x",
         "domain": [
          0,
          1
         ],
         "range": [
          0,
          200
         ],
         "title": {
          "font": {
           "size": 11
          },
          "text": "<b>Quantidade de Docentes</b>"
         }
        },
        "yaxis2": {
         "anchor": "x2",
         "domain": [
          0,
          1
         ],
         "range": [
          0,
          200
         ]
        }
       }
      }
     },
     "metadata": {},
     "output_type": "display_data"
    }
   ],
   "source": [
    "size = df_rs_localizacao_diferenciada_rural['QT_TUR_BAS']\n",
    "colors = [\"brown\", \"orange\",\"turquoise\"]\n",
    "\n",
    "fig = make_subplots(\n",
    "  rows=1, \n",
    "  cols=2,\n",
    "  subplot_titles=('Localização <b>RURAL</b>', 'Localização <b>URBANA</b>')\n",
    ")\n",
    "\n",
    "def SetColor(x):\n",
    "        if(x == 1):\n",
    "            return \"brown\"\n",
    "        elif(x == 2):\n",
    "            return \"orange\"\n",
    "        elif(x == 3):\n",
    "            return \"turquoise\"\n",
    "\n",
    "fig.add_trace(\n",
    "    go.Scatter(\n",
    "    x=df_rs_localizacao_diferenciada_rural['QT_MAT_BAS'],\n",
    "    y=df_rs_localizacao_diferenciada_rural['QT_DOC_BAS'],\n",
    "    mode='markers',\n",
    "    marker=dict(\n",
    "      size=df_rs_localizacao_diferenciada_rural['QT_TUR_BAS'],      \n",
    "      opacity=0.75,      \n",
    "      color = df_rs_localizacao_diferenciada_rural['TP_LOCALIZACAO_DIFERENCIADA'],\n",
    "      line=dict(width=1,\n",
    "        color='Black'),\n",
    "      sizemode='area',\n",
    "      sizeref=2.*max(size)/(30.**2),\n",
    "      sizemin=4\n",
    "    )    \n",
    "  ), \n",
    "    row=1, col=1,\n",
    ")\n",
    "\n",
    "fig.add_trace(\n",
    "    go.Scatter(\n",
    "    x=df_rs_localizacao_diferenciada_urbana['QT_MAT_BAS'],\n",
    "    y=df_rs_localizacao_diferenciada_urbana['QT_DOC_BAS'],\n",
    "    mode='markers',\n",
    "    marker=dict(\n",
    "      size=df_rs_localizacao_diferenciada_urbana['QT_TUR_BAS'],\n",
    "      color=df_rs_localizacao_diferenciada_urbana['TP_LOCALIZACAO_DIFERENCIADA'],\n",
    "      opacity=0.75,\n",
    "      line=dict(width=1,\n",
    "        color='Black'),\n",
    "      sizemode='area',\n",
    "      sizeref=2.*max(size)/(30.**2),\n",
    "      sizemin=4\n",
    "    )\n",
    "  ), \n",
    "    row=1, col=2,\n",
    ")\n",
    "\n",
    "fig.update_xaxes(title_text = '<b>Quantidade de Matrículas</b>', title_font_size=11, range=[0, 500], row=1, col=1)\n",
    "fig.update_xaxes(title_text = '<b>Quantidade de Matrículas</b>', title_font_size=11, range=[0, 500], row=1, col=2)\n",
    "\n",
    "fig.update_yaxes(title_text = '<b>Quantidade de Docentes</b>', title_font_size=11, range=[0, 200], row=1, col=1)\n",
    "fig.update_yaxes(range=[0, 200], row=1, col=2)\n",
    "\n",
    "fig.update_layout(\n",
    "  height=600, \n",
    "  width=1200, \n",
    "  title=dict(text='<b>Censo Escolar 2021: Análise de Localização Diferenciada (RS)</b>',font=dict(size=14), x=0.5),\n",
    "  legend=dict(orientation='h', title_text='<b>Localização Diferenciada</b>', entrywidth=70, yanchor=\"bottom\",  y=-0.2,  xanchor=\"right\",  x=0.5),\n",
    ")\n",
    "\n",
    "fig.show()"
   ]
  },
  {
   "cell_type": "code",
   "execution_count": 12,
   "metadata": {},
   "outputs": [],
   "source": [
    "#converte o gráfico para o formato HTML\n",
    "fig.write_html('teste.html')"
   ]
  }
 ],
 "metadata": {
  "kernelspec": {
   "display_name": "Python 3",
   "language": "python",
   "name": "python3"
  },
  "language_info": {
   "codemirror_mode": {
    "name": "ipython",
    "version": 3
   },
   "file_extension": ".py",
   "mimetype": "text/x-python",
   "name": "python",
   "nbconvert_exporter": "python",
   "pygments_lexer": "ipython3",
   "version": "3.11.2"
  },
  "orig_nbformat": 4
 },
 "nbformat": 4,
 "nbformat_minor": 2
}
