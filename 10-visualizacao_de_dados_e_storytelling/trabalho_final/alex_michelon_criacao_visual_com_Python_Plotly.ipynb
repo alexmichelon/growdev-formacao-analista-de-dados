{
  "cells": [
    {
      "cell_type": "markdown",
      "metadata": {
        "id": "vRZdo5A2wm7v"
      },
      "source": [
        "# Criação de visual utilizando Python + Plotly\n",
        "\n",
        "Utilizando os dados do Censo Escolar de 2021, disponibilizados pelo INEP, seguem  as orientações gerais da atividade:\n",
        "\n",
        "* Realizar uma análise focada das entidades escolares com localização diferenciada (área de assentamento, terra indígena e áreas remanescentes de quilombos) no estado Rio Grande do Sul."
      ]
    },
    {
      "cell_type": "code",
      "execution_count": 1,
      "metadata": {
        "id": "X3VkGsXZcjrS"
      },
      "outputs": [],
      "source": [
        "#coluna da base de dados utilizada como base da análise\n",
        "base_column = 'TP_LOCALIZACAO_DIFERENCIADA'\n",
        "\n",
        "#filtros para o estado solicitado\n",
        "filter_column_1 = 'SG_UF'\n",
        "filter_comparision_1 = '=='\n",
        "filter_value_1 = 'RS'"
      ]
    },
    {
      "cell_type": "markdown",
      "metadata": {
        "id": "rcUjJ4nQcuiX"
      },
      "source": [
        "* O objetivo principal da investigação é entender a distribuição entre a quantidade de docentes e a quantidade de matrículas dessas entidades."
      ]
    },
    {
      "cell_type": "code",
      "execution_count": 2,
      "metadata": {
        "id": "-7nJFsSIcx94"
      },
      "outputs": [],
      "source": [
        "#define colunas da base de dados do gráfico\n",
        "x_column='QT_MAT_BAS'\n",
        "y_column='QT_DOC_BAS'"
      ]
    },
    {
      "cell_type": "markdown",
      "metadata": {
        "id": "JLzAHO25dHQC"
      },
      "source": [
        "* Foi solicitado para que os resultados sejam mostrados em dois gráficos separados lado a lado considerando o tipo de localização da entidade (Urbana ou Rural)."
      ]
    },
    {
      "cell_type": "code",
      "execution_count": 3,
      "metadata": {
        "id": "Zg-8DwSYtn3L"
      },
      "outputs": [],
      "source": [
        "#coluna de referência para criação de gráficos por valor (facet)\n",
        "reference_column = 'TP_LOCALIZACAO'"
      ]
    },
    {
      "cell_type": "markdown",
      "metadata": {
        "id": "pfIAKXU0dOYN"
      },
      "source": [
        "* As escolas que não estão situadas em áreas de localização diferenciada devem ser removidas da análise."
      ]
    },
    {
      "cell_type": "code",
      "execution_count": 4,
      "metadata": {
        "id": "odYIc7KNrgeH"
      },
      "outputs": [],
      "source": [
        "#filtros para desconsiderar áreas não diferenciadas\n",
        "filter_column_2 = 'TP_LOCALIZACAO_DIFERENCIADA'\n",
        "filter_comparision_2 = '!='\n",
        "filter_value_2 = 0"
      ]
    },
    {
      "cell_type": "markdown",
      "metadata": {
        "id": "jeIYUDe1dTTK"
      },
      "source": [
        "* O valor de quantidade de turmas também deve ser utilizado como uma dimensão adicional para dar mais destaque às entidades que possuem mais turmas."
      ]
    },
    {
      "cell_type": "code",
      "execution_count": 5,
      "metadata": {
        "id": "z31Oclu0dnLZ"
      },
      "outputs": [],
      "source": [
        "#coluna da base de dados utilizada como dimensão adicional\n",
        "aditional_dimension = 'QT_TUR_BAS'\n",
        "\n",
        "# lista com as colunas da base de dados que serão utilizadas para geração do gráfico\n",
        "chart_columns = ['TP_LOCALIZACAO_DIFERENCIADA', 'TP_LOCALIZACAO', 'QT_MAT_BAS', 'QT_DOC_BAS', 'QT_TUR_BAS']"
      ]
    },
    {
      "cell_type": "markdown",
      "metadata": {
        "id": "nMgIoE2tdzLu"
      },
      "source": [
        "Para realizar a atividade, será necessário seguir alguns padrões:\n",
        "\n",
        "1. Gerar os gráficos utilizando Python + Plotly (Google Colab).\n"
      ]
    },
    {
      "cell_type": "code",
      "execution_count": 6,
      "metadata": {
        "id": "dEUrhcT9YMio"
      },
      "outputs": [],
      "source": [
        "import pandas as pd\n",
        "import plotly.express as px\n",
        "from plotly.subplots import make_subplots"
      ]
    },
    {
      "cell_type": "markdown",
      "metadata": {
        "id": "KpnMMCXld_Ib"
      },
      "source": [
        "2. Baixar a base de dados do Censo escolar 2021, necessária para a realização da prática (esse material compactado já contém a base de dados em um arquivo CSV e um dicionário de dados em um arquivo XLSX).\n",
        "\n",
        "      <a href='https://drive.google.com/file/d/10XbbQfvTJ323VJMKxpLVuebNfC1WWxos/view?usp=sharing'> Microdados Censo Escolar 2021 </a>"
      ]
    },
    {
      "cell_type": "code",
      "execution_count": 7,
      "metadata": {
        "id": "YJdUbiviYdLl"
      },
      "outputs": [
        {
          "name": "stderr",
          "output_type": "stream",
          "text": [
            "C:\\Users\\Alex\\AppData\\Local\\Temp\\ipykernel_7348\\2725038427.py:2: DtypeWarning: Columns (27) have mixed types. Specify dtype option on import or set low_memory=False.\n",
            "  df = pd.read_csv('microdados_ed_basica_2021.csv', encoding='latin-1', sep=';')\n"
          ]
        }
      ],
      "source": [
        "#importa base de dados com separador ponto e vírgula: decodifica para formato latin-1\n",
        "df = pd.read_csv('microdados_ed_basica_2021.csv', encoding='latin-1', sep=';')"
      ]
    },
    {
      "cell_type": "markdown",
      "metadata": {
        "id": "_-xalqsoeMt_"
      },
      "source": [
        "3. O título do gráfico deve ser: “Censo Escolar 2021: Análise de Localização Diferenciada (RS)”, centralizado, todo em negrito com tamanho de fonte 14."
      ]
    },
    {
      "cell_type": "code",
      "execution_count": 8,
      "metadata": {
        "id": "LoKwVi-meOPQ"
      },
      "outputs": [],
      "source": [
        "#define título do gráfico\n",
        "chart_title_text = '<b>Censo Escolar 2021: Análise de Localização Diferenciada (RS)</b>'\n",
        "\n",
        "#define alinhamento do título do gráfico\n",
        "chart_title_align = 0.5\n",
        "\n",
        "#define tamanho do título do gráfico\n",
        "chart_title_font_size = 14"
      ]
    },
    {
      "cell_type": "markdown",
      "metadata": {
        "id": "SNHB7hFCe8fY"
      },
      "source": [
        "4. O gráfico deve ser gerado com 600 pixels de altura e 1200 pixels de largura."
      ]
    },
    {
      "cell_type": "code",
      "execution_count": 9,
      "metadata": {
        "id": "eLgBvr0fe-ap"
      },
      "outputs": [],
      "source": [
        "#define a altura do gráfico em pixels\n",
        "chart_height = 600\n",
        "\n",
        "#define a largura do gráfico em pixels\n",
        "chart_width = 1200"
      ]
    },
    {
      "cell_type": "markdown",
      "metadata": {
        "id": "b8lWbhr3fPYM"
      },
      "source": [
        "5. A legenda deve ser utilizada na orientação horizontal, centralizado e na parte inferior do gráfico. Também deve apresentar o significado de cada dado, conforme o dicionário de dados. Criação de visual utilizando Python + Plotly"
      ]
    },
    {
      "cell_type": "code",
      "execution_count": 10,
      "metadata": {
        "id": "JPrc5orQfTvV"
      },
      "outputs": [],
      "source": [
        "#define a orientação da legenda do gráfico\n",
        "legend_orientation = 'h'\n",
        "\n",
        "#define o local no eixo x da legenda do gráfico\n",
        "legend_x_place = 'center'\n",
        "\n",
        "#define o local no eixo y da legenda do gráfico\n",
        "legend_y_place = 'bottom'\n",
        "\n",
        "#define a posição no eixo x da legenda do gráfico\n",
        "legend_x_position = 0.5\n",
        "\n",
        "#define a posição no eixo y da legenda do gráfico\n",
        "legend_y_position = -0.2\n",
        "\n",
        "#define a distância entre os valores da legenda do gráfico\n",
        "legend_entrywidth = 170\n",
        "\n",
        "#define o nome dos valores da legenda do gráfico\n",
        "legend_names = {'1':'Áreas de Assentamento', '2': 'Terras Indígenas', '3': 'Remanescentes Quilombola'}"
      ]
    },
    {
      "cell_type": "markdown",
      "metadata": {
        "id": "m0sNZwvEhu27"
      },
      "source": [
        "7. O título da legenda de ser alterado para: “Localização Diferenciada”, com tamanho de fonte igual a 12."
      ]
    },
    {
      "cell_type": "code",
      "execution_count": 11,
      "metadata": {
        "id": "DJWrwg35hxfU"
      },
      "outputs": [],
      "source": [
        "#define o texto da legenda do gráfico\n",
        "legend_title_text = '<b>Localização Diferenciada</b>'\n",
        "\n",
        "#define o tamanho do texto da legenda do gráfico\n",
        "legend_title_font_size = 12"
      ]
    },
    {
      "cell_type": "markdown",
      "metadata": {
        "id": "uwKiNUxSiaH-"
      },
      "source": [
        "8. Para escolas em área de assentamento, deve ser utilizada a cor “brown”.\n",
        "\n",
        "9. Para escola em terra indígena, deve ser utilizada a cor “orange”.\n",
        "\n",
        "10. Para escolas em áreas remanescentes de quilombo, deve ser utilizada a cor “turquoise”."
      ]
    },
    {
      "cell_type": "code",
      "execution_count": 12,
      "metadata": {
        "id": "gCrdKhC7igFK"
      },
      "outputs": [],
      "source": [
        "#define as cores do marcador conforme o valor de cada legenda\n",
        "colors = [\"brown\", \"orange\", \"turquoise\"]"
      ]
    },
    {
      "cell_type": "markdown",
      "metadata": {
        "id": "iXOq0N3_ipiF"
      },
      "source": [
        "11. Os títulos individuais dos subgráficos devem apresentar o significado de cada tipo de localização, conforme o dicionário de dados."
      ]
    },
    {
      "cell_type": "code",
      "execution_count": 13,
      "metadata": {
        "id": "w_GdlR6Wi_eZ"
      },
      "outputs": [],
      "source": [
        "#define o texto do título de cada subgráfico\n",
        "sub_chart_title_text_1 = 'Localização <b>URBANA</b>'\n",
        "sub_chart_title_text_2 = 'Localização <b>RURAL</b>'"
      ]
    },
    {
      "cell_type": "markdown",
      "metadata": {
        "id": "oPDYlSK1jWKj"
      },
      "source": [
        "12. O eixo com a quantidade de matrículas deve ser fixado entre 0 e 500. Deve também receber o título: “Quantidade de Matrículas”, com fonte tamanho 11."
      ]
    },
    {
      "cell_type": "code",
      "execution_count": 14,
      "metadata": {
        "id": "jZ197GBljmcC"
      },
      "outputs": [],
      "source": [
        "#define o texto do título do eixo x\n",
        "x_axis_title_text = '<b>Quantidade de Matrículas</b>'\n",
        "\n",
        "#define o tamanho da fonte do texto do título do eixo x\n",
        "x_axis_title_font_size = 11\n",
        "\n",
        "#define o tamanho da faixa de valores para o eixo x\n",
        "x_axis_range = [0, 500]"
      ]
    },
    {
      "cell_type": "markdown",
      "metadata": {
        "id": "RCxE9xMNkF1h"
      },
      "source": [
        "13. O eixo com a quantidade de docentes deve ser fixado entre 0 e 200. Deve também receber o título: “Quantidade de Matrículas”, com fonte tamanho 11."
      ]
    },
    {
      "cell_type": "code",
      "execution_count": 15,
      "metadata": {
        "id": "EjSyIjnjkIcK"
      },
      "outputs": [],
      "source": [
        "#define o texto do título do eixo x\n",
        "y_axis_title_text = '<b>Quantidade de Docentes</b>'\n",
        "\n",
        "#define o tamanho da fonte do texto do título do eixo y\n",
        "y_axis_title_size = 11\n",
        "\n",
        "#define o tamanho da faixa de valores para o eixo y\n",
        "y_axis_range = [0, 200]"
      ]
    },
    {
      "cell_type": "markdown",
      "metadata": {
        "id": "WUolv8FGkzrW"
      },
      "source": [
        "14. Os marcadores devem ter borda da cor preta e opacidade de 75%."
      ]
    },
    {
      "cell_type": "code",
      "execution_count": 16,
      "metadata": {
        "id": "TLIqZK7ok_ts"
      },
      "outputs": [],
      "source": [
        "#define o tamanho da borda do marcador\n",
        "marker_line_width = 1\n",
        "\n",
        "#define a cor da borda do marcador\n",
        "marker_line_color = 'black'\n",
        "\n",
        "#define a opacidade do marcador\n",
        "marker_opacity = 0.75"
      ]
    },
    {
      "cell_type": "markdown",
      "metadata": {
        "id": "mGQ-iSEDlrsg"
      },
      "source": [
        "15. Marcadores devem ter seu tamanho máximo igual a 30."
      ]
    },
    {
      "cell_type": "code",
      "execution_count": 17,
      "metadata": {
        "id": "4_HIX_4GlvCh"
      },
      "outputs": [],
      "source": [
        "#define o tamanho máximo que o marcador pode ter\n",
        "marker_size_max = 30"
      ]
    },
    {
      "cell_type": "markdown",
      "metadata": {
        "id": "9TvZtNjjl7L-"
      },
      "source": [
        "16. No canto superior direito da imagem, deve ser inserida uma anotação com o texto “Fonte: INEP”, com a cor “dark_gray” e fonte tamanho 12."
      ]
    },
    {
      "cell_type": "code",
      "execution_count": 18,
      "metadata": {
        "id": "YmCY2XQXmIAt"
      },
      "outputs": [],
      "source": [
        "#define a posição no eixo x para a anotação\n",
        "annotation_x_position = 1\n",
        "\n",
        "#define a posição no eixo y para a anotação\n",
        "annotation_y_position = 1.04\n",
        "\n",
        "#define o texto para a anotação\n",
        "annotation_text = \"Fonte: INEP\"\n",
        "\n",
        "#define o alinhamento para a anotação\n",
        "annotation_align = \"right\"\n",
        "\n",
        "#define a cor para a anotação\n",
        "annotation_font_color = 'darkgray'\n",
        "\n",
        "#define o tamanho do texto da anotação\n",
        "annotation_font_size = 12"
      ]
    },
    {
      "cell_type": "code",
      "execution_count": 19,
      "metadata": {
        "id": "V17WVCTvYqqC"
      },
      "outputs": [],
      "source": [
        "#cria o DataFrame com os filtros informados\n",
        "df_1 = df.query(f'{filter_column_1} {filter_comparision_1} \"{filter_value_1}\" and {filter_column_2} {filter_comparision_2} {filter_value_2}')\n",
        "\n",
        "#resume o DataFrame apenas as colunas solicitadas\n",
        "df_1 = df_1[chart_columns]"
      ]
    },
    {
      "cell_type": "code",
      "execution_count": 20,
      "metadata": {
        "id": "NI4n9HZWZUv3"
      },
      "outputs": [],
      "source": [
        "#transforma a coluna do DataFrame para o tipo 'str' (cor discreta)\n",
        "#para permitir vincular a cor do marcador conforme valor da coluna da base de dados\n",
        "df_1[base_column] = df_1[base_column].astype(str)"
      ]
    },
    {
      "cell_type": "code",
      "execution_count": 21,
      "metadata": {
        "id": "KBlE5MVaacQQ"
      },
      "outputs": [],
      "source": [
        "#vincular o tamanho do marcador conforme valor da coluna da base de dados (dimensão adicional)\n",
        "bubble_size = df_1[aditional_dimension]"
      ]
    },
    {
      "cell_type": "code",
      "execution_count": 22,
      "metadata": {
        "id": "uB47DljZaHSm"
      },
      "outputs": [],
      "source": [
        "#cria gráfico de dispersão\n",
        "fig = px.scatter(df_1,\n",
        "                 x=x_column,\n",
        "                 y=y_column,\n",
        "                 size=bubble_size,\n",
        "                 color=df_1[base_column],\n",
        "                 color_discrete_sequence=colors,\n",
        "                 facet_col=reference_column,\n",
        "                 opacity=marker_opacity,\n",
        "                 size_max=marker_size_max)"
      ]
    },
    {
      "cell_type": "code",
      "execution_count": 23,
      "metadata": {
        "id": "TnNU1FBMZCPf"
      },
      "outputs": [
        {
          "data": {
            "application/vnd.plotly.v1+json": {
              "config": {
                "plotlyServerURL": "https://plot.ly"
              },
              "data": [
                {
                  "hovertemplate": "TP_LOCALIZACAO_DIFERENCIADA=1<br>TP_LOCALIZACAO=2<br>QT_MAT_BAS=%{x}<br>QT_DOC_BAS=%{y}<br>QT_TUR_BAS=%{marker.size}<extra></extra>",
                  "legendgroup": "Áreas de Assentamento",
                  "marker": {
                    "color": "brown",
                    "line": {
                      "color": "black",
                      "width": 1
                    },
                    "opacity": 0.75,
                    "size": [
                      4,
                      7,
                      4,
                      2,
                      10,
                      11,
                      6,
                      3,
                      7,
                      6,
                      5,
                      5,
                      4,
                      4,
                      6,
                      4,
                      1,
                      11,
                      4,
                      11,
                      5,
                      6,
                      9,
                      8,
                      4,
                      13,
                      10,
                      5,
                      8,
                      4,
                      13,
                      4,
                      9,
                      3,
                      7,
                      4,
                      16,
                      2,
                      11,
                      11,
                      10,
                      2,
                      3,
                      10,
                      1,
                      1,
                      4,
                      2,
                      8,
                      6,
                      12,
                      3,
                      8,
                      2,
                      9,
                      11,
                      3,
                      12,
                      4,
                      3,
                      11,
                      10,
                      11,
                      3,
                      11
                    ],
                    "sizemode": "area",
                    "sizeref": 0.028888888888888888,
                    "symbol": "circle"
                  },
                  "mode": "markers",
                  "name": "Áreas de Assentamento",
                  "orientation": "v",
                  "showlegend": true,
                  "type": "scatter",
                  "x": [
                    32,
                    64,
                    31,
                    12,
                    150,
                    270,
                    73,
                    35,
                    62,
                    62,
                    32,
                    6,
                    29,
                    23,
                    45,
                    42,
                    12,
                    242,
                    38,
                    132,
                    51,
                    39,
                    98,
                    58,
                    48,
                    105,
                    158,
                    64,
                    67,
                    38,
                    201,
                    22,
                    83,
                    29,
                    78,
                    87,
                    350,
                    25,
                    31,
                    81,
                    36,
                    12,
                    21,
                    128,
                    14,
                    7,
                    30,
                    10,
                    69,
                    88,
                    179,
                    21,
                    105,
                    14,
                    76,
                    85,
                    35,
                    153,
                    52,
                    33,
                    74,
                    53,
                    65,
                    21,
                    277
                  ],
                  "xaxis": "x",
                  "y": [
                    6,
                    11,
                    6,
                    1,
                    11,
                    9,
                    5,
                    4,
                    9,
                    7,
                    5,
                    2,
                    8,
                    4,
                    3,
                    3,
                    1,
                    15,
                    2,
                    18,
                    9,
                    11,
                    13,
                    12,
                    6,
                    16,
                    11,
                    6,
                    12,
                    7,
                    14,
                    6,
                    9,
                    3,
                    5,
                    7,
                    15,
                    5,
                    10,
                    11,
                    9,
                    4,
                    5,
                    14,
                    2,
                    1,
                    4,
                    1,
                    9,
                    12,
                    19,
                    6,
                    13,
                    4,
                    14,
                    18,
                    4,
                    10,
                    8,
                    5,
                    10,
                    9,
                    11,
                    2,
                    13
                  ],
                  "yaxis": "y"
                },
                {
                  "hovertemplate": "TP_LOCALIZACAO_DIFERENCIADA=2<br>TP_LOCALIZACAO=2<br>QT_MAT_BAS=%{x}<br>QT_DOC_BAS=%{y}<br>QT_TUR_BAS=%{marker.size}<extra></extra>",
                  "legendgroup": "Terras Indígenas",
                  "marker": {
                    "color": "orange",
                    "line": {
                      "color": "black",
                      "width": 1
                    },
                    "opacity": 0.75,
                    "size": [
                      7,
                      5,
                      4,
                      4,
                      2,
                      3,
                      7,
                      15,
                      1,
                      1,
                      2,
                      9,
                      2,
                      3,
                      1,
                      3,
                      20,
                      2,
                      5,
                      1,
                      3,
                      1,
                      8,
                      6,
                      4,
                      1,
                      2,
                      4,
                      5,
                      9,
                      2,
                      7,
                      15,
                      5,
                      4,
                      2,
                      10,
                      1,
                      1,
                      3,
                      3,
                      6,
                      12,
                      1,
                      3,
                      11,
                      2,
                      3,
                      7,
                      2,
                      21,
                      13,
                      10,
                      10,
                      9,
                      3,
                      4,
                      2,
                      7,
                      5,
                      2,
                      13,
                      3,
                      7,
                      6,
                      5,
                      7,
                      6,
                      11,
                      18,
                      1,
                      11,
                      11,
                      15,
                      10,
                      7,
                      4,
                      9,
                      7
                    ],
                    "sizemode": "area",
                    "sizeref": 0.028888888888888888,
                    "symbol": "circle"
                  },
                  "mode": "markers",
                  "name": "Terras Indígenas",
                  "orientation": "v",
                  "showlegend": true,
                  "type": "scatter",
                  "x": [
                    112,
                    45,
                    16,
                    34,
                    33,
                    29,
                    85,
                    240,
                    2,
                    8,
                    12,
                    141,
                    25,
                    46,
                    3,
                    34,
                    337,
                    21,
                    76,
                    2,
                    49,
                    15,
                    56,
                    49,
                    49,
                    6,
                    11,
                    57,
                    35,
                    149,
                    18,
                    115,
                    254,
                    36,
                    74,
                    30,
                    112,
                    3,
                    8,
                    34,
                    20,
                    79,
                    174,
                    8,
                    15,
                    184,
                    9,
                    6,
                    82,
                    22,
                    407,
                    237,
                    129,
                    141,
                    130,
                    31,
                    56,
                    19,
                    85,
                    40,
                    10,
                    180,
                    30,
                    50,
                    61,
                    22,
                    57,
                    65,
                    149,
                    334,
                    7,
                    137,
                    167,
                    198,
                    111,
                    48,
                    35,
                    54,
                    86
                  ],
                  "xaxis": "x",
                  "y": [
                    11,
                    6,
                    5,
                    4,
                    3,
                    4,
                    7,
                    12,
                    2,
                    1,
                    1,
                    9,
                    2,
                    4,
                    1,
                    2,
                    18,
                    1,
                    11,
                    1,
                    4,
                    1,
                    7,
                    7,
                    5,
                    1,
                    1,
                    3,
                    6,
                    10,
                    3,
                    7,
                    14,
                    8,
                    4,
                    3,
                    12,
                    2,
                    2,
                    3,
                    3,
                    4,
                    11,
                    1,
                    2,
                    13,
                    3,
                    2,
                    7,
                    2,
                    24,
                    15,
                    13,
                    13,
                    11,
                    4,
                    10,
                    1,
                    10,
                    10,
                    1,
                    15,
                    3,
                    8,
                    5,
                    7,
                    10,
                    7,
                    17,
                    12,
                    1,
                    9,
                    10,
                    16,
                    12,
                    12,
                    7,
                    10,
                    7
                  ],
                  "yaxis": "y"
                },
                {
                  "hovertemplate": "TP_LOCALIZACAO_DIFERENCIADA=2<br>TP_LOCALIZACAO=1<br>QT_MAT_BAS=%{x}<br>QT_DOC_BAS=%{y}<br>QT_TUR_BAS=%{marker.size}<extra></extra>",
                  "legendgroup": "Terras Indígenas",
                  "marker": {
                    "color": "orange",
                    "line": {
                      "color": "black",
                      "width": 1
                    },
                    "opacity": 0.75,
                    "size": [
                      1,
                      3,
                      2,
                      3,
                      2,
                      13,
                      4,
                      2
                    ],
                    "sizemode": "area",
                    "sizeref": 0.028888888888888888,
                    "symbol": "circle"
                  },
                  "mode": "markers",
                  "name": "Terras Indígenas",
                  "orientation": "v",
                  "showlegend": false,
                  "type": "scatter",
                  "x": [
                    11,
                    17,
                    20,
                    9,
                    4,
                    58,
                    38,
                    13
                  ],
                  "xaxis": "x2",
                  "y": [
                    1,
                    2,
                    3,
                    1,
                    2,
                    14,
                    2,
                    2
                  ],
                  "yaxis": "y2"
                },
                {
                  "hovertemplate": "TP_LOCALIZACAO_DIFERENCIADA=3<br>TP_LOCALIZACAO=2<br>QT_MAT_BAS=%{x}<br>QT_DOC_BAS=%{y}<br>QT_TUR_BAS=%{marker.size}<extra></extra>",
                  "legendgroup": "Remanescentes Quilombola",
                  "marker": {
                    "color": "turquoise",
                    "line": {
                      "color": "black",
                      "width": 1
                    },
                    "opacity": 0.75,
                    "size": [
                      11,
                      8,
                      13,
                      10,
                      12,
                      10,
                      11,
                      10,
                      9,
                      10,
                      10,
                      11,
                      10,
                      12,
                      9,
                      9,
                      11,
                      9,
                      15,
                      10,
                      10,
                      10,
                      7,
                      7,
                      5,
                      8,
                      6,
                      3,
                      15,
                      3,
                      10,
                      3,
                      8,
                      6,
                      2,
                      4,
                      10,
                      11,
                      15,
                      4,
                      26,
                      10,
                      2,
                      6,
                      12,
                      7,
                      7,
                      5,
                      7,
                      13,
                      15,
                      13,
                      11,
                      8
                    ],
                    "sizemode": "area",
                    "sizeref": 0.028888888888888888,
                    "symbol": "circle"
                  },
                  "mode": "markers",
                  "name": "Remanescentes Quilombola",
                  "orientation": "v",
                  "showlegend": true,
                  "type": "scatter",
                  "x": [
                    126,
                    65,
                    235,
                    131,
                    116,
                    116,
                    187,
                    94,
                    70,
                    57,
                    131,
                    142,
                    114,
                    206,
                    101,
                    69,
                    120,
                    104,
                    169,
                    138,
                    120,
                    106,
                    58,
                    65,
                    44,
                    86,
                    90,
                    21,
                    206,
                    53,
                    123,
                    25,
                    128,
                    55,
                    23,
                    25,
                    190,
                    157,
                    219,
                    32,
                    333,
                    111,
                    16,
                    126,
                    186,
                    171,
                    100,
                    19,
                    92,
                    248,
                    254,
                    218,
                    87,
                    90
                  ],
                  "xaxis": "x",
                  "y": [
                    13,
                    9,
                    15,
                    13,
                    12,
                    11,
                    14,
                    12,
                    10,
                    9,
                    12,
                    12,
                    13,
                    12,
                    9,
                    13,
                    11,
                    9,
                    13,
                    12,
                    13,
                    11,
                    3,
                    6,
                    10,
                    7,
                    7,
                    3,
                    14,
                    2,
                    13,
                    5,
                    14,
                    5,
                    4,
                    3,
                    11,
                    17,
                    25,
                    6,
                    37,
                    16,
                    3,
                    17,
                    22,
                    11,
                    16,
                    1,
                    16,
                    20,
                    21,
                    19,
                    12,
                    12
                  ],
                  "yaxis": "y"
                },
                {
                  "hovertemplate": "TP_LOCALIZACAO_DIFERENCIADA=3<br>TP_LOCALIZACAO=1<br>QT_MAT_BAS=%{x}<br>QT_DOC_BAS=%{y}<br>QT_TUR_BAS=%{marker.size}<extra></extra>",
                  "legendgroup": "Remanescentes Quilombola",
                  "marker": {
                    "color": "turquoise",
                    "line": {
                      "color": "black",
                      "width": 1
                    },
                    "opacity": 0.75,
                    "size": [
                      19,
                      9,
                      4,
                      4,
                      15,
                      2,
                      10,
                      0
                    ],
                    "sizemode": "area",
                    "sizeref": 0.028888888888888888,
                    "symbol": "circle"
                  },
                  "mode": "markers",
                  "name": "Remanescentes Quilombola",
                  "orientation": "v",
                  "showlegend": false,
                  "type": "scatter",
                  "x": [
                    285,
                    173,
                    36,
                    36,
                    299,
                    31,
                    226,
                    0
                  ],
                  "xaxis": "x2",
                  "y": [
                    20,
                    14,
                    11,
                    6,
                    17,
                    5,
                    18,
                    0
                  ],
                  "yaxis": "y2"
                }
              ],
              "layout": {
                "annotations": [
                  {
                    "showarrow": false,
                    "text": "Localização <b>RURAL</b>",
                    "x": 0.245,
                    "xanchor": "center",
                    "xref": "paper",
                    "y": 1,
                    "yanchor": "bottom",
                    "yref": "paper"
                  },
                  {
                    "showarrow": false,
                    "text": "Localização <b>URBANA</b>",
                    "x": 0.755,
                    "xanchor": "center",
                    "xref": "paper",
                    "y": 1,
                    "yanchor": "bottom",
                    "yref": "paper"
                  },
                  {
                    "align": "right",
                    "font": {
                      "color": "darkgray",
                      "size": 12
                    },
                    "showarrow": false,
                    "text": "Fonte: INEP",
                    "x": 1,
                    "xref": "paper",
                    "y": 1.04,
                    "yref": "paper"
                  }
                ],
                "height": 600,
                "legend": {
                  "entrywidth": 170,
                  "font": {
                    "size": 12
                  },
                  "itemsizing": "constant",
                  "orientation": "h",
                  "title": {
                    "text": "<b>Localização Diferenciada</b>"
                  },
                  "tracegroupgap": 0,
                  "x": 0.5,
                  "xanchor": "center",
                  "y": -0.2,
                  "yanchor": "bottom"
                },
                "margin": {
                  "t": 60
                },
                "showlegend": true,
                "template": {
                  "data": {
                    "bar": [
                      {
                        "error_x": {
                          "color": "#2a3f5f"
                        },
                        "error_y": {
                          "color": "#2a3f5f"
                        },
                        "marker": {
                          "line": {
                            "color": "#E5ECF6",
                            "width": 0.5
                          },
                          "pattern": {
                            "fillmode": "overlay",
                            "size": 10,
                            "solidity": 0.2
                          }
                        },
                        "type": "bar"
                      }
                    ],
                    "barpolar": [
                      {
                        "marker": {
                          "line": {
                            "color": "#E5ECF6",
                            "width": 0.5
                          },
                          "pattern": {
                            "fillmode": "overlay",
                            "size": 10,
                            "solidity": 0.2
                          }
                        },
                        "type": "barpolar"
                      }
                    ],
                    "carpet": [
                      {
                        "aaxis": {
                          "endlinecolor": "#2a3f5f",
                          "gridcolor": "white",
                          "linecolor": "white",
                          "minorgridcolor": "white",
                          "startlinecolor": "#2a3f5f"
                        },
                        "baxis": {
                          "endlinecolor": "#2a3f5f",
                          "gridcolor": "white",
                          "linecolor": "white",
                          "minorgridcolor": "white",
                          "startlinecolor": "#2a3f5f"
                        },
                        "type": "carpet"
                      }
                    ],
                    "choropleth": [
                      {
                        "colorbar": {
                          "outlinewidth": 0,
                          "ticks": ""
                        },
                        "type": "choropleth"
                      }
                    ],
                    "contour": [
                      {
                        "colorbar": {
                          "outlinewidth": 0,
                          "ticks": ""
                        },
                        "colorscale": [
                          [
                            0,
                            "#0d0887"
                          ],
                          [
                            0.1111111111111111,
                            "#46039f"
                          ],
                          [
                            0.2222222222222222,
                            "#7201a8"
                          ],
                          [
                            0.3333333333333333,
                            "#9c179e"
                          ],
                          [
                            0.4444444444444444,
                            "#bd3786"
                          ],
                          [
                            0.5555555555555556,
                            "#d8576b"
                          ],
                          [
                            0.6666666666666666,
                            "#ed7953"
                          ],
                          [
                            0.7777777777777778,
                            "#fb9f3a"
                          ],
                          [
                            0.8888888888888888,
                            "#fdca26"
                          ],
                          [
                            1,
                            "#f0f921"
                          ]
                        ],
                        "type": "contour"
                      }
                    ],
                    "contourcarpet": [
                      {
                        "colorbar": {
                          "outlinewidth": 0,
                          "ticks": ""
                        },
                        "type": "contourcarpet"
                      }
                    ],
                    "heatmap": [
                      {
                        "colorbar": {
                          "outlinewidth": 0,
                          "ticks": ""
                        },
                        "colorscale": [
                          [
                            0,
                            "#0d0887"
                          ],
                          [
                            0.1111111111111111,
                            "#46039f"
                          ],
                          [
                            0.2222222222222222,
                            "#7201a8"
                          ],
                          [
                            0.3333333333333333,
                            "#9c179e"
                          ],
                          [
                            0.4444444444444444,
                            "#bd3786"
                          ],
                          [
                            0.5555555555555556,
                            "#d8576b"
                          ],
                          [
                            0.6666666666666666,
                            "#ed7953"
                          ],
                          [
                            0.7777777777777778,
                            "#fb9f3a"
                          ],
                          [
                            0.8888888888888888,
                            "#fdca26"
                          ],
                          [
                            1,
                            "#f0f921"
                          ]
                        ],
                        "type": "heatmap"
                      }
                    ],
                    "heatmapgl": [
                      {
                        "colorbar": {
                          "outlinewidth": 0,
                          "ticks": ""
                        },
                        "colorscale": [
                          [
                            0,
                            "#0d0887"
                          ],
                          [
                            0.1111111111111111,
                            "#46039f"
                          ],
                          [
                            0.2222222222222222,
                            "#7201a8"
                          ],
                          [
                            0.3333333333333333,
                            "#9c179e"
                          ],
                          [
                            0.4444444444444444,
                            "#bd3786"
                          ],
                          [
                            0.5555555555555556,
                            "#d8576b"
                          ],
                          [
                            0.6666666666666666,
                            "#ed7953"
                          ],
                          [
                            0.7777777777777778,
                            "#fb9f3a"
                          ],
                          [
                            0.8888888888888888,
                            "#fdca26"
                          ],
                          [
                            1,
                            "#f0f921"
                          ]
                        ],
                        "type": "heatmapgl"
                      }
                    ],
                    "histogram": [
                      {
                        "marker": {
                          "pattern": {
                            "fillmode": "overlay",
                            "size": 10,
                            "solidity": 0.2
                          }
                        },
                        "type": "histogram"
                      }
                    ],
                    "histogram2d": [
                      {
                        "colorbar": {
                          "outlinewidth": 0,
                          "ticks": ""
                        },
                        "colorscale": [
                          [
                            0,
                            "#0d0887"
                          ],
                          [
                            0.1111111111111111,
                            "#46039f"
                          ],
                          [
                            0.2222222222222222,
                            "#7201a8"
                          ],
                          [
                            0.3333333333333333,
                            "#9c179e"
                          ],
                          [
                            0.4444444444444444,
                            "#bd3786"
                          ],
                          [
                            0.5555555555555556,
                            "#d8576b"
                          ],
                          [
                            0.6666666666666666,
                            "#ed7953"
                          ],
                          [
                            0.7777777777777778,
                            "#fb9f3a"
                          ],
                          [
                            0.8888888888888888,
                            "#fdca26"
                          ],
                          [
                            1,
                            "#f0f921"
                          ]
                        ],
                        "type": "histogram2d"
                      }
                    ],
                    "histogram2dcontour": [
                      {
                        "colorbar": {
                          "outlinewidth": 0,
                          "ticks": ""
                        },
                        "colorscale": [
                          [
                            0,
                            "#0d0887"
                          ],
                          [
                            0.1111111111111111,
                            "#46039f"
                          ],
                          [
                            0.2222222222222222,
                            "#7201a8"
                          ],
                          [
                            0.3333333333333333,
                            "#9c179e"
                          ],
                          [
                            0.4444444444444444,
                            "#bd3786"
                          ],
                          [
                            0.5555555555555556,
                            "#d8576b"
                          ],
                          [
                            0.6666666666666666,
                            "#ed7953"
                          ],
                          [
                            0.7777777777777778,
                            "#fb9f3a"
                          ],
                          [
                            0.8888888888888888,
                            "#fdca26"
                          ],
                          [
                            1,
                            "#f0f921"
                          ]
                        ],
                        "type": "histogram2dcontour"
                      }
                    ],
                    "mesh3d": [
                      {
                        "colorbar": {
                          "outlinewidth": 0,
                          "ticks": ""
                        },
                        "type": "mesh3d"
                      }
                    ],
                    "parcoords": [
                      {
                        "line": {
                          "colorbar": {
                            "outlinewidth": 0,
                            "ticks": ""
                          }
                        },
                        "type": "parcoords"
                      }
                    ],
                    "pie": [
                      {
                        "automargin": true,
                        "type": "pie"
                      }
                    ],
                    "scatter": [
                      {
                        "fillpattern": {
                          "fillmode": "overlay",
                          "size": 10,
                          "solidity": 0.2
                        },
                        "type": "scatter"
                      }
                    ],
                    "scatter3d": [
                      {
                        "line": {
                          "colorbar": {
                            "outlinewidth": 0,
                            "ticks": ""
                          }
                        },
                        "marker": {
                          "colorbar": {
                            "outlinewidth": 0,
                            "ticks": ""
                          }
                        },
                        "type": "scatter3d"
                      }
                    ],
                    "scattercarpet": [
                      {
                        "marker": {
                          "colorbar": {
                            "outlinewidth": 0,
                            "ticks": ""
                          }
                        },
                        "type": "scattercarpet"
                      }
                    ],
                    "scattergeo": [
                      {
                        "marker": {
                          "colorbar": {
                            "outlinewidth": 0,
                            "ticks": ""
                          }
                        },
                        "type": "scattergeo"
                      }
                    ],
                    "scattergl": [
                      {
                        "marker": {
                          "colorbar": {
                            "outlinewidth": 0,
                            "ticks": ""
                          }
                        },
                        "type": "scattergl"
                      }
                    ],
                    "scattermapbox": [
                      {
                        "marker": {
                          "colorbar": {
                            "outlinewidth": 0,
                            "ticks": ""
                          }
                        },
                        "type": "scattermapbox"
                      }
                    ],
                    "scatterpolar": [
                      {
                        "marker": {
                          "colorbar": {
                            "outlinewidth": 0,
                            "ticks": ""
                          }
                        },
                        "type": "scatterpolar"
                      }
                    ],
                    "scatterpolargl": [
                      {
                        "marker": {
                          "colorbar": {
                            "outlinewidth": 0,
                            "ticks": ""
                          }
                        },
                        "type": "scatterpolargl"
                      }
                    ],
                    "scatterternary": [
                      {
                        "marker": {
                          "colorbar": {
                            "outlinewidth": 0,
                            "ticks": ""
                          }
                        },
                        "type": "scatterternary"
                      }
                    ],
                    "surface": [
                      {
                        "colorbar": {
                          "outlinewidth": 0,
                          "ticks": ""
                        },
                        "colorscale": [
                          [
                            0,
                            "#0d0887"
                          ],
                          [
                            0.1111111111111111,
                            "#46039f"
                          ],
                          [
                            0.2222222222222222,
                            "#7201a8"
                          ],
                          [
                            0.3333333333333333,
                            "#9c179e"
                          ],
                          [
                            0.4444444444444444,
                            "#bd3786"
                          ],
                          [
                            0.5555555555555556,
                            "#d8576b"
                          ],
                          [
                            0.6666666666666666,
                            "#ed7953"
                          ],
                          [
                            0.7777777777777778,
                            "#fb9f3a"
                          ],
                          [
                            0.8888888888888888,
                            "#fdca26"
                          ],
                          [
                            1,
                            "#f0f921"
                          ]
                        ],
                        "type": "surface"
                      }
                    ],
                    "table": [
                      {
                        "cells": {
                          "fill": {
                            "color": "#EBF0F8"
                          },
                          "line": {
                            "color": "white"
                          }
                        },
                        "header": {
                          "fill": {
                            "color": "#C8D4E3"
                          },
                          "line": {
                            "color": "white"
                          }
                        },
                        "type": "table"
                      }
                    ]
                  },
                  "layout": {
                    "annotationdefaults": {
                      "arrowcolor": "#2a3f5f",
                      "arrowhead": 0,
                      "arrowwidth": 1
                    },
                    "autotypenumbers": "strict",
                    "coloraxis": {
                      "colorbar": {
                        "outlinewidth": 0,
                        "ticks": ""
                      }
                    },
                    "colorscale": {
                      "diverging": [
                        [
                          0,
                          "#8e0152"
                        ],
                        [
                          0.1,
                          "#c51b7d"
                        ],
                        [
                          0.2,
                          "#de77ae"
                        ],
                        [
                          0.3,
                          "#f1b6da"
                        ],
                        [
                          0.4,
                          "#fde0ef"
                        ],
                        [
                          0.5,
                          "#f7f7f7"
                        ],
                        [
                          0.6,
                          "#e6f5d0"
                        ],
                        [
                          0.7,
                          "#b8e186"
                        ],
                        [
                          0.8,
                          "#7fbc41"
                        ],
                        [
                          0.9,
                          "#4d9221"
                        ],
                        [
                          1,
                          "#276419"
                        ]
                      ],
                      "sequential": [
                        [
                          0,
                          "#0d0887"
                        ],
                        [
                          0.1111111111111111,
                          "#46039f"
                        ],
                        [
                          0.2222222222222222,
                          "#7201a8"
                        ],
                        [
                          0.3333333333333333,
                          "#9c179e"
                        ],
                        [
                          0.4444444444444444,
                          "#bd3786"
                        ],
                        [
                          0.5555555555555556,
                          "#d8576b"
                        ],
                        [
                          0.6666666666666666,
                          "#ed7953"
                        ],
                        [
                          0.7777777777777778,
                          "#fb9f3a"
                        ],
                        [
                          0.8888888888888888,
                          "#fdca26"
                        ],
                        [
                          1,
                          "#f0f921"
                        ]
                      ],
                      "sequentialminus": [
                        [
                          0,
                          "#0d0887"
                        ],
                        [
                          0.1111111111111111,
                          "#46039f"
                        ],
                        [
                          0.2222222222222222,
                          "#7201a8"
                        ],
                        [
                          0.3333333333333333,
                          "#9c179e"
                        ],
                        [
                          0.4444444444444444,
                          "#bd3786"
                        ],
                        [
                          0.5555555555555556,
                          "#d8576b"
                        ],
                        [
                          0.6666666666666666,
                          "#ed7953"
                        ],
                        [
                          0.7777777777777778,
                          "#fb9f3a"
                        ],
                        [
                          0.8888888888888888,
                          "#fdca26"
                        ],
                        [
                          1,
                          "#f0f921"
                        ]
                      ]
                    },
                    "colorway": [
                      "#636efa",
                      "#EF553B",
                      "#00cc96",
                      "#ab63fa",
                      "#FFA15A",
                      "#19d3f3",
                      "#FF6692",
                      "#B6E880",
                      "#FF97FF",
                      "#FECB52"
                    ],
                    "font": {
                      "color": "#2a3f5f"
                    },
                    "geo": {
                      "bgcolor": "white",
                      "lakecolor": "white",
                      "landcolor": "#E5ECF6",
                      "showlakes": true,
                      "showland": true,
                      "subunitcolor": "white"
                    },
                    "hoverlabel": {
                      "align": "left"
                    },
                    "hovermode": "closest",
                    "mapbox": {
                      "style": "light"
                    },
                    "paper_bgcolor": "white",
                    "plot_bgcolor": "#E5ECF6",
                    "polar": {
                      "angularaxis": {
                        "gridcolor": "white",
                        "linecolor": "white",
                        "ticks": ""
                      },
                      "bgcolor": "#E5ECF6",
                      "radialaxis": {
                        "gridcolor": "white",
                        "linecolor": "white",
                        "ticks": ""
                      }
                    },
                    "scene": {
                      "xaxis": {
                        "backgroundcolor": "#E5ECF6",
                        "gridcolor": "white",
                        "gridwidth": 2,
                        "linecolor": "white",
                        "showbackground": true,
                        "ticks": "",
                        "zerolinecolor": "white"
                      },
                      "yaxis": {
                        "backgroundcolor": "#E5ECF6",
                        "gridcolor": "white",
                        "gridwidth": 2,
                        "linecolor": "white",
                        "showbackground": true,
                        "ticks": "",
                        "zerolinecolor": "white"
                      },
                      "zaxis": {
                        "backgroundcolor": "#E5ECF6",
                        "gridcolor": "white",
                        "gridwidth": 2,
                        "linecolor": "white",
                        "showbackground": true,
                        "ticks": "",
                        "zerolinecolor": "white"
                      }
                    },
                    "shapedefaults": {
                      "line": {
                        "color": "#2a3f5f"
                      }
                    },
                    "ternary": {
                      "aaxis": {
                        "gridcolor": "white",
                        "linecolor": "white",
                        "ticks": ""
                      },
                      "baxis": {
                        "gridcolor": "white",
                        "linecolor": "white",
                        "ticks": ""
                      },
                      "bgcolor": "#E5ECF6",
                      "caxis": {
                        "gridcolor": "white",
                        "linecolor": "white",
                        "ticks": ""
                      }
                    },
                    "title": {
                      "x": 0.05
                    },
                    "xaxis": {
                      "automargin": true,
                      "gridcolor": "white",
                      "linecolor": "white",
                      "ticks": "",
                      "title": {
                        "standoff": 15
                      },
                      "zerolinecolor": "white",
                      "zerolinewidth": 2
                    },
                    "yaxis": {
                      "automargin": true,
                      "gridcolor": "white",
                      "linecolor": "white",
                      "ticks": "",
                      "title": {
                        "standoff": 15
                      },
                      "zerolinecolor": "white",
                      "zerolinewidth": 2
                    }
                  }
                },
                "title": {
                  "font": {
                    "size": 14
                  },
                  "text": "<b>Censo Escolar 2021: Análise de Localização Diferenciada (RS)</b>",
                  "x": 0.5
                },
                "width": 1200,
                "xaxis": {
                  "anchor": "y",
                  "domain": [
                    0,
                    0.49
                  ],
                  "range": [
                    0,
                    500
                  ],
                  "title": {
                    "font": {
                      "size": 11
                    },
                    "text": "<b>Quantidade de Matrículas</b>"
                  }
                },
                "xaxis2": {
                  "anchor": "y2",
                  "domain": [
                    0.51,
                    1
                  ],
                  "matches": "x",
                  "range": [
                    0,
                    500
                  ],
                  "title": {
                    "font": {
                      "size": 11
                    },
                    "text": "<b>Quantidade de Matrículas</b>"
                  }
                },
                "yaxis": {
                  "anchor": "x",
                  "domain": [
                    0,
                    1
                  ],
                  "range": [
                    0,
                    200
                  ],
                  "title": {
                    "font": {
                      "size": 11
                    },
                    "text": "<b>Quantidade de Docentes</b>"
                  }
                },
                "yaxis2": {
                  "anchor": "x2",
                  "domain": [
                    0,
                    1
                  ],
                  "matches": "y",
                  "range": [
                    0,
                    200
                  ],
                  "showticklabels": false
                }
              }
            }
          },
          "metadata": {},
          "output_type": "display_data"
        }
      ],
      "source": [
        "#define o texto do título para o subgráfico conforme valor da coluna de referência\n",
        "for a in fig.layout.annotations:\n",
        "  a.text = a.text.split(\"=\")[1]\n",
        "  #neste caso\n",
        "  if (a.text == '1'):\n",
        "    a.text = sub_chart_title_text_1 #1 = urbana\n",
        "  else:\n",
        "    a.text = sub_chart_title_text_2 #2 = rural\n",
        "\n",
        "#define títulos desejados para os valores da legenda\n",
        "fig.for_each_trace(lambda legend: legend.update(name = legend_names[legend.name],\n",
        "                                                legendgroup = legend_names[legend.name]))\n",
        "\n",
        "#define anotação no gráfico (\"Fonte: INEP\")\n",
        "fig.add_annotation(x=annotation_x_position,\n",
        "                   y=annotation_y_position,\n",
        "                   xref=\"paper\", #referencia o campo de impressão do gráfico\n",
        "                   yref=\"paper\", #referencia o campo de impressão do gráfico\n",
        "                   text=annotation_text,\n",
        "                   showarrow=False,\n",
        "                   align=annotation_align,\n",
        "                   font=dict(\n",
        "                      color=annotation_font_color,\n",
        "                      size=annotation_font_size))\n",
        "\n",
        "#define propriedades para o eixo x de cada subgráfico\n",
        "fig.update_xaxes(\n",
        "    title_text = x_axis_title_text,\n",
        "    title_font_size=x_axis_title_font_size,\n",
        "    range=x_axis_range,\n",
        "    row=1, col=1) #subgráfico 1\n",
        "\n",
        "fig.update_xaxes(\n",
        "    title_text = x_axis_title_text,\n",
        "    title_font_size=x_axis_title_font_size,\n",
        "    range=x_axis_range,\n",
        "    row=1, col=2) #subgráfico 2\n",
        "\n",
        "#define propriedades para o eixo y de cada gráfico\n",
        "fig.update_yaxes(title_text = y_axis_title_text,\n",
        "                 title_font_size=y_axis_title_size,\n",
        "                 range=y_axis_range,\n",
        "                 row=1, col=1) #subgráfico 1\n",
        "\n",
        "fig.update_yaxes(range=y_axis_range,\n",
        "                 row=1, col=2) #subgráfico 2\n",
        "\n",
        "#atualiza propriedades do layout do gráfico\n",
        "fig.update_layout(\n",
        "  height=chart_height,\n",
        "  width=chart_width,\n",
        "  title=dict(text=chart_title_text,\n",
        "             font=dict(size=chart_title_font_size),\n",
        "             x=chart_title_align),\n",
        "  showlegend=True,\n",
        "  legend=dict(orientation=legend_orientation,\n",
        "              title_text=legend_title_text,\n",
        "              font=dict(size=legend_title_font_size),\n",
        "              entrywidth=legend_entrywidth,\n",
        "              yanchor=legend_y_place,\n",
        "              y=legend_y_position,\n",
        "              xanchor=legend_x_place,\n",
        "              x=legend_x_position),\n",
        ")\n",
        "\n",
        "#atualiza propriedades de formato dos marcadores do gráfico\n",
        "fig.update_traces(\n",
        "  marker=dict(line=dict(width=marker_line_width,color=marker_line_color)),\n",
        "  selector=dict(mode='markers'))\n",
        "\n",
        "#mostra o gráfico\n",
        "fig.show()"
      ]
    },
    {
      "cell_type": "markdown",
      "metadata": {
        "id": "qoxylHMepLHA"
      },
      "source": [
        "17. O visual deve ser exportado no formato HMTL com o nome:\n",
        "“localizacao_diferenciada_rs.html”"
      ]
    },
    {
      "cell_type": "code",
      "execution_count": 24,
      "metadata": {
        "id": "bH7IGv2_pN0x"
      },
      "outputs": [],
      "source": [
        "#converte o gráfico para o formato HTML\n",
        "fig.write_html('localizacao_diferenciada_rs.html')"
      ]
    },
    {
      "cell_type": "markdown",
      "metadata": {
        "id": "2dbRtIHC46hp"
      },
      "source": [
        "# Dicas\n",
        "\n",
        "* Não se esquece de avaliar a base de dados e realizar os tratamentos  necessários.\n",
        "\n",
        "* Funções do plotly.express possuem os parâmetros como o facet_col que facilitam  a criação de gráficos facetados conforme dados do próprio dataframe.\n",
        "\n",
        "* Anotações presentes nos visuais podem ser acessadas individualmente, caso  enfrente problemas para alterar algum título.\n",
        "\n",
        "* As funções update_xaxes e update_yaxes permitem a utilização e parâmetros como row e col para alterar os eixos de somente um dos visuais caso necessário"
      ]
    }
  ],
  "metadata": {
    "colab": {
      "provenance": []
    },
    "kernelspec": {
      "display_name": "Python 3",
      "name": "python3"
    },
    "language_info": {
      "codemirror_mode": {
        "name": "ipython",
        "version": 3
      },
      "file_extension": ".py",
      "mimetype": "text/x-python",
      "name": "python",
      "nbconvert_exporter": "python",
      "pygments_lexer": "ipython3",
      "version": "3.11.2"
    }
  },
  "nbformat": 4,
  "nbformat_minor": 0
}
