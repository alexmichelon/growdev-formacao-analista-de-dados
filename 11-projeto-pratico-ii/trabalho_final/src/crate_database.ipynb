{
 "cells": [
  {
   "cell_type": "code",
   "execution_count": null,
   "metadata": {},
   "outputs": [],
   "source": [
    "import database.manipulate_db as mdb\n",
    "import database.generate_query as gquery\n",
    "import pandas as pd\n",
    "\n",
    "#cria conexão com o banco de dados\n",
    "engine = mdb.create_engine_db_connection('localhost', 'root', 'root123', 'trabalho_pratico_ii')"
   ]
  },
  {
   "cell_type": "code",
   "execution_count": null,
   "metadata": {},
   "outputs": [],
   "source": [
    "#transforma todos os dados dos arquivos csv do diretório em dados em tabelas no banco de dados MySQL\n",
    "full_path = './file/' #endereço onde constam os arquivos a serem inseridos no banco de dados\n",
    "file_type = 'csv' #extensão dos arquivos\n",
    "to_sql_if_exists='replace' #tipo de ação ao inserir os dados no banco\n",
    "result = mdb.file_to_db(engine, full_path, file_type, to_sql_if_exists) #lê arquivos de um diretório e insere no banco de dados\n",
    "print(result)"
   ]
  },
  {
   "cell_type": "code",
   "execution_count": null,
   "metadata": {},
   "outputs": [],
   "source": [
    "#busca os nomes de tabelas do banco de dados\n",
    "table_schema = 'trabalho_pratico_ii' #nome do schema/banco de dados\n",
    "file_path = './file/database.sql' #endereço onde será salvado o arquivo .sql com scripts do banco de dados\n",
    "open_file_mode = 'a' #modo de abertura/escrita do arquivo \n",
    "df_tables = mdb.return_db_tables_name(engine, table_schema) #retorna os nomes das tabelas do banco de dados\n",
    "#substitui valores no DataFrame e converte colunas em valores numéricos\n",
    "new_values = {'--': '0', 'None': '', ',': '-'} #valores a serem substituídos nos arquivos\n",
    "for table in df_tables['TABLE_NAME']: #lê cada tabela do banco de dados\n",
    "    if 'game_logs' not in table:\n",
    "        if table == 'basic_stats':\n",
    "            where_clausule = 'current_status = \"Active\"'\n",
    "        else:\n",
    "            where_clausule = 'year = 2016'\n",
    "        #gera arquivo com os scripts para criação do banco de dados\n",
    "        gquery.generate_file_whit_db_scripts(file_path, open_file_mode, engine, where_clausule, new_values, table_schema, table)"
   ]
  },
  {
   "cell_type": "code",
   "execution_count": null,
   "metadata": {},
   "outputs": [],
   "source": [
    "table_schema = 'trabalho_pratico_ii' #nome do schema/banco de dados\n",
    "df_tables = mdb.return_db_tables_name(engine, table_schema) #retorna os nomes das tabelas do banco de dados\n",
    "df = pd.DataFrame() #cria um DataFrame vazio\n",
    "join_column = 'player_id' #coluna base para união dos DataFrames\n",
    "for table in df_tables['TABLE_NAME']:\n",
    "    table = f'{table_schema}.{table}' #adiciona o nome do schema/banco de dados no nome da tabela\n",
    "    query = gquery.query_create_select(table, '*', None) #cria query select\n",
    "    if df.empty: #se DataFrame vazio\n",
    "        df = mdb.convert_sql_to_dataframe(query, engine) #busca dados do banco de dados e os converte em um DataFrame\n",
    "    else:        \n",
    "        df_table = mdb.convert_sql_to_dataframe(query, engine) #busca dados do banco de dados e os converte em um DataFrame\n",
    "        df = pd.merge(df, df_table, how='left', on=join_column, suffixes=('', '_remove')) #une o DataFrame existente com o DataFrame com os dados da última tabela buscada\n",
    "        df.drop([i for i in df.columns if 'remove' in i], axis=1, inplace=True) #remove do DataFrame as colunas duplicadas\n",
    "    df = mdb.convert_columns_to_numeric(df, 0, 'ignore') #substitui valores nulos e converte colunas em tipo numérico\n",
    "    \n",
    "    #escreve df em um arquivo e salva\n",
    "    file = open('df.csv', 'w') #abre/cria um arquivo e define modo de escrita \n",
    "    file.write(str(df.columns.to_list()).replace('[', '').replace(']', '') + '\\n') #escreve no arquivo as colunas do DataFrame\n",
    "    for row in df.values.tolist(): #lê cada linha do DataFrame transformadas em formado lista\n",
    "        file.write(str(row).replace('[', '').replace(']', '') + '\\n') #escreve no arquivo a linha susbtituindo caracteres e adicionando quebra de linha\n",
    "    file.close() #fecha o arquivo     \n",
    "df #mostra DataFrame"
   ]
  }
 ],
 "metadata": {
  "kernelspec": {
   "display_name": "Python 3",
   "language": "python",
   "name": "python3"
  },
  "language_info": {
   "codemirror_mode": {
    "name": "ipython",
    "version": 3
   },
   "file_extension": ".py",
   "mimetype": "text/x-python",
   "name": "python",
   "nbconvert_exporter": "python",
   "pygments_lexer": "ipython3",
   "version": "3.11.2"
  },
  "orig_nbformat": 4
 },
 "nbformat": 4,
 "nbformat_minor": 2
}
